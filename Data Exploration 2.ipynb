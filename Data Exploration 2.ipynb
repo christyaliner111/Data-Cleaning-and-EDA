{
 "cells": [
  {
   "cell_type": "markdown",
   "metadata": {},
   "source": [
    "# Data Exploration 2 Assignment"
   ]
  },
  {
   "cell_type": "markdown",
   "metadata": {},
   "source": [
    "## Imports and Connection"
   ]
  },
  {
   "cell_type": "code",
   "execution_count": 59,
   "metadata": {},
   "outputs": [],
   "source": [
    "import pandas as pd\n",
    "import numpy as np\n",
    "from scipy import stats\n",
    "from scipy.stats.mstats import winsorize\n",
    "import seaborn as sns\n",
    "from sqlalchemy import create_engine\n",
    "from matplotlib import pyplot as plt\n",
    "import warnings\n",
    "\n",
    "warnings.filterwarnings('ignore')"
   ]
  },
  {
   "cell_type": "code",
   "execution_count": 60,
   "metadata": {},
   "outputs": [],
   "source": [
    "postgres_user = 'dsbc_student'\n",
    "postgres_pw = '7*.8G9QH21'\n",
    "postgres_host = '142.93.121.174'\n",
    "postgres_port = '5432'\n",
    "postgres_db = 'studentsperformance'\n",
    "\n",
    "engine = create_engine('postgresql://{}:{}@{}:{}/{}'.format(\n",
    "    postgres_user, postgres_pw, postgres_host, postgres_port, postgres_db))\n",
    "\n",
    "exams_df = pd.read_sql_query('select * from studentsperformance', con=engine)\n",
    "\n",
    "engine.dispose()"
   ]
  },
  {
   "cell_type": "markdown",
   "metadata": {},
   "source": [
    "## Understanding the Data"
   ]
  },
  {
   "cell_type": "code",
   "execution_count": 61,
   "metadata": {},
   "outputs": [
    {
     "data": {
      "text/plain": [
       "gender                         object\n",
       "race/ethnicity                 object\n",
       "parental level of education    object\n",
       "lunch                          object\n",
       "test preparation course        object\n",
       "math score                      int64\n",
       "reading score                   int64\n",
       "writing score                   int64\n",
       "dtype: object"
      ]
     },
     "execution_count": 61,
     "metadata": {},
     "output_type": "execute_result"
    }
   ],
   "source": [
    "exams_df.dtypes"
   ]
  },
  {
   "cell_type": "code",
   "execution_count": 62,
   "metadata": {},
   "outputs": [
    {
     "name": "stdout",
     "output_type": "stream",
     "text": [
      "<class 'pandas.core.frame.DataFrame'>\n",
      "RangeIndex: 1000 entries, 0 to 999\n",
      "Data columns (total 8 columns):\n",
      "gender                         1000 non-null object\n",
      "race/ethnicity                 1000 non-null object\n",
      "parental level of education    1000 non-null object\n",
      "lunch                          1000 non-null object\n",
      "test preparation course        1000 non-null object\n",
      "math score                     1000 non-null int64\n",
      "reading score                  1000 non-null int64\n",
      "writing score                  1000 non-null int64\n",
      "dtypes: int64(3), object(5)\n",
      "memory usage: 62.6+ KB\n"
     ]
    }
   ],
   "source": [
    "exams_df.info()"
   ]
  },
  {
   "cell_type": "code",
   "execution_count": 63,
   "metadata": {},
   "outputs": [
    {
     "data": {
      "text/html": [
       "<div>\n",
       "<style scoped>\n",
       "    .dataframe tbody tr th:only-of-type {\n",
       "        vertical-align: middle;\n",
       "    }\n",
       "\n",
       "    .dataframe tbody tr th {\n",
       "        vertical-align: top;\n",
       "    }\n",
       "\n",
       "    .dataframe thead th {\n",
       "        text-align: right;\n",
       "    }\n",
       "</style>\n",
       "<table border=\"1\" class=\"dataframe\">\n",
       "  <thead>\n",
       "    <tr style=\"text-align: right;\">\n",
       "      <th></th>\n",
       "      <th>gender</th>\n",
       "      <th>race/ethnicity</th>\n",
       "      <th>parental level of education</th>\n",
       "      <th>lunch</th>\n",
       "      <th>test preparation course</th>\n",
       "    </tr>\n",
       "  </thead>\n",
       "  <tbody>\n",
       "    <tr>\n",
       "      <th>count</th>\n",
       "      <td>1000</td>\n",
       "      <td>1000</td>\n",
       "      <td>1000</td>\n",
       "      <td>1000</td>\n",
       "      <td>1000</td>\n",
       "    </tr>\n",
       "    <tr>\n",
       "      <th>unique</th>\n",
       "      <td>2</td>\n",
       "      <td>5</td>\n",
       "      <td>6</td>\n",
       "      <td>2</td>\n",
       "      <td>2</td>\n",
       "    </tr>\n",
       "    <tr>\n",
       "      <th>top</th>\n",
       "      <td>female</td>\n",
       "      <td>group C</td>\n",
       "      <td>some college</td>\n",
       "      <td>standard</td>\n",
       "      <td>none</td>\n",
       "    </tr>\n",
       "    <tr>\n",
       "      <th>freq</th>\n",
       "      <td>518</td>\n",
       "      <td>319</td>\n",
       "      <td>226</td>\n",
       "      <td>645</td>\n",
       "      <td>642</td>\n",
       "    </tr>\n",
       "  </tbody>\n",
       "</table>\n",
       "</div>"
      ],
      "text/plain": [
       "        gender race/ethnicity parental level of education     lunch  \\\n",
       "count     1000           1000                        1000      1000   \n",
       "unique       2              5                           6         2   \n",
       "top     female        group C                some college  standard   \n",
       "freq       518            319                         226       645   \n",
       "\n",
       "       test preparation course  \n",
       "count                     1000  \n",
       "unique                       2  \n",
       "top                       none  \n",
       "freq                       642  "
      ]
     },
     "execution_count": 63,
     "metadata": {},
     "output_type": "execute_result"
    }
   ],
   "source": [
    "exams_df.describe(include=['O'])"
   ]
  },
  {
   "cell_type": "code",
   "execution_count": 64,
   "metadata": {},
   "outputs": [
    {
     "data": {
      "text/html": [
       "<div>\n",
       "<style scoped>\n",
       "    .dataframe tbody tr th:only-of-type {\n",
       "        vertical-align: middle;\n",
       "    }\n",
       "\n",
       "    .dataframe tbody tr th {\n",
       "        vertical-align: top;\n",
       "    }\n",
       "\n",
       "    .dataframe thead th {\n",
       "        text-align: right;\n",
       "    }\n",
       "</style>\n",
       "<table border=\"1\" class=\"dataframe\">\n",
       "  <thead>\n",
       "    <tr style=\"text-align: right;\">\n",
       "      <th></th>\n",
       "      <th>math score</th>\n",
       "      <th>reading score</th>\n",
       "      <th>writing score</th>\n",
       "    </tr>\n",
       "  </thead>\n",
       "  <tbody>\n",
       "    <tr>\n",
       "      <th>count</th>\n",
       "      <td>1000.00000</td>\n",
       "      <td>1000.000000</td>\n",
       "      <td>1000.000000</td>\n",
       "    </tr>\n",
       "    <tr>\n",
       "      <th>mean</th>\n",
       "      <td>66.08900</td>\n",
       "      <td>69.169000</td>\n",
       "      <td>68.054000</td>\n",
       "    </tr>\n",
       "    <tr>\n",
       "      <th>std</th>\n",
       "      <td>15.16308</td>\n",
       "      <td>14.600192</td>\n",
       "      <td>15.195657</td>\n",
       "    </tr>\n",
       "    <tr>\n",
       "      <th>min</th>\n",
       "      <td>0.00000</td>\n",
       "      <td>17.000000</td>\n",
       "      <td>10.000000</td>\n",
       "    </tr>\n",
       "    <tr>\n",
       "      <th>25%</th>\n",
       "      <td>57.00000</td>\n",
       "      <td>59.000000</td>\n",
       "      <td>57.750000</td>\n",
       "    </tr>\n",
       "    <tr>\n",
       "      <th>50%</th>\n",
       "      <td>66.00000</td>\n",
       "      <td>70.000000</td>\n",
       "      <td>69.000000</td>\n",
       "    </tr>\n",
       "    <tr>\n",
       "      <th>75%</th>\n",
       "      <td>77.00000</td>\n",
       "      <td>79.000000</td>\n",
       "      <td>79.000000</td>\n",
       "    </tr>\n",
       "    <tr>\n",
       "      <th>max</th>\n",
       "      <td>100.00000</td>\n",
       "      <td>100.000000</td>\n",
       "      <td>100.000000</td>\n",
       "    </tr>\n",
       "  </tbody>\n",
       "</table>\n",
       "</div>"
      ],
      "text/plain": [
       "       math score  reading score  writing score\n",
       "count  1000.00000    1000.000000    1000.000000\n",
       "mean     66.08900      69.169000      68.054000\n",
       "std      15.16308      14.600192      15.195657\n",
       "min       0.00000      17.000000      10.000000\n",
       "25%      57.00000      59.000000      57.750000\n",
       "50%      66.00000      70.000000      69.000000\n",
       "75%      77.00000      79.000000      79.000000\n",
       "max     100.00000     100.000000     100.000000"
      ]
     },
     "execution_count": 64,
     "metadata": {},
     "output_type": "execute_result"
    }
   ],
   "source": [
    "exams_df.describe()"
   ]
  },
  {
   "cell_type": "code",
   "execution_count": 65,
   "metadata": {},
   "outputs": [
    {
     "data": {
      "text/html": [
       "<div>\n",
       "<style scoped>\n",
       "    .dataframe tbody tr th:only-of-type {\n",
       "        vertical-align: middle;\n",
       "    }\n",
       "\n",
       "    .dataframe tbody tr th {\n",
       "        vertical-align: top;\n",
       "    }\n",
       "\n",
       "    .dataframe thead th {\n",
       "        text-align: right;\n",
       "    }\n",
       "</style>\n",
       "<table border=\"1\" class=\"dataframe\">\n",
       "  <thead>\n",
       "    <tr style=\"text-align: right;\">\n",
       "      <th></th>\n",
       "      <th>gender</th>\n",
       "      <th>race/ethnicity</th>\n",
       "      <th>parental level of education</th>\n",
       "      <th>lunch</th>\n",
       "      <th>test preparation course</th>\n",
       "      <th>math score</th>\n",
       "      <th>reading score</th>\n",
       "      <th>writing score</th>\n",
       "    </tr>\n",
       "  </thead>\n",
       "  <tbody>\n",
       "    <tr>\n",
       "      <th>0</th>\n",
       "      <td>female</td>\n",
       "      <td>group B</td>\n",
       "      <td>bachelor's degree</td>\n",
       "      <td>standard</td>\n",
       "      <td>none</td>\n",
       "      <td>72</td>\n",
       "      <td>72</td>\n",
       "      <td>74</td>\n",
       "    </tr>\n",
       "    <tr>\n",
       "      <th>1</th>\n",
       "      <td>female</td>\n",
       "      <td>group C</td>\n",
       "      <td>some college</td>\n",
       "      <td>standard</td>\n",
       "      <td>completed</td>\n",
       "      <td>69</td>\n",
       "      <td>90</td>\n",
       "      <td>88</td>\n",
       "    </tr>\n",
       "    <tr>\n",
       "      <th>2</th>\n",
       "      <td>female</td>\n",
       "      <td>group B</td>\n",
       "      <td>master's degree</td>\n",
       "      <td>standard</td>\n",
       "      <td>none</td>\n",
       "      <td>90</td>\n",
       "      <td>95</td>\n",
       "      <td>93</td>\n",
       "    </tr>\n",
       "    <tr>\n",
       "      <th>3</th>\n",
       "      <td>male</td>\n",
       "      <td>group A</td>\n",
       "      <td>associate's degree</td>\n",
       "      <td>free/reduced</td>\n",
       "      <td>none</td>\n",
       "      <td>47</td>\n",
       "      <td>57</td>\n",
       "      <td>44</td>\n",
       "    </tr>\n",
       "    <tr>\n",
       "      <th>4</th>\n",
       "      <td>male</td>\n",
       "      <td>group C</td>\n",
       "      <td>some college</td>\n",
       "      <td>standard</td>\n",
       "      <td>none</td>\n",
       "      <td>76</td>\n",
       "      <td>78</td>\n",
       "      <td>75</td>\n",
       "    </tr>\n",
       "    <tr>\n",
       "      <th>5</th>\n",
       "      <td>female</td>\n",
       "      <td>group B</td>\n",
       "      <td>associate's degree</td>\n",
       "      <td>standard</td>\n",
       "      <td>none</td>\n",
       "      <td>71</td>\n",
       "      <td>83</td>\n",
       "      <td>78</td>\n",
       "    </tr>\n",
       "    <tr>\n",
       "      <th>6</th>\n",
       "      <td>female</td>\n",
       "      <td>group B</td>\n",
       "      <td>some college</td>\n",
       "      <td>standard</td>\n",
       "      <td>completed</td>\n",
       "      <td>88</td>\n",
       "      <td>95</td>\n",
       "      <td>92</td>\n",
       "    </tr>\n",
       "    <tr>\n",
       "      <th>7</th>\n",
       "      <td>male</td>\n",
       "      <td>group B</td>\n",
       "      <td>some college</td>\n",
       "      <td>free/reduced</td>\n",
       "      <td>none</td>\n",
       "      <td>40</td>\n",
       "      <td>43</td>\n",
       "      <td>39</td>\n",
       "    </tr>\n",
       "    <tr>\n",
       "      <th>8</th>\n",
       "      <td>male</td>\n",
       "      <td>group D</td>\n",
       "      <td>high school</td>\n",
       "      <td>free/reduced</td>\n",
       "      <td>completed</td>\n",
       "      <td>64</td>\n",
       "      <td>64</td>\n",
       "      <td>67</td>\n",
       "    </tr>\n",
       "    <tr>\n",
       "      <th>9</th>\n",
       "      <td>female</td>\n",
       "      <td>group B</td>\n",
       "      <td>high school</td>\n",
       "      <td>free/reduced</td>\n",
       "      <td>none</td>\n",
       "      <td>38</td>\n",
       "      <td>60</td>\n",
       "      <td>50</td>\n",
       "    </tr>\n",
       "  </tbody>\n",
       "</table>\n",
       "</div>"
      ],
      "text/plain": [
       "   gender race/ethnicity parental level of education         lunch  \\\n",
       "0  female        group B           bachelor's degree      standard   \n",
       "1  female        group C                some college      standard   \n",
       "2  female        group B             master's degree      standard   \n",
       "3    male        group A          associate's degree  free/reduced   \n",
       "4    male        group C                some college      standard   \n",
       "5  female        group B          associate's degree      standard   \n",
       "6  female        group B                some college      standard   \n",
       "7    male        group B                some college  free/reduced   \n",
       "8    male        group D                 high school  free/reduced   \n",
       "9  female        group B                 high school  free/reduced   \n",
       "\n",
       "  test preparation course  math score  reading score  writing score  \n",
       "0                    none          72             72             74  \n",
       "1               completed          69             90             88  \n",
       "2                    none          90             95             93  \n",
       "3                    none          47             57             44  \n",
       "4                    none          76             78             75  \n",
       "5                    none          71             83             78  \n",
       "6               completed          88             95             92  \n",
       "7                    none          40             43             39  \n",
       "8               completed          64             64             67  \n",
       "9                    none          38             60             50  "
      ]
     },
     "execution_count": 65,
     "metadata": {},
     "output_type": "execute_result"
    }
   ],
   "source": [
    "exams_df.head(10)"
   ]
  },
  {
   "cell_type": "code",
   "execution_count": 66,
   "metadata": {},
   "outputs": [
    {
     "data": {
      "text/plain": [
       "female    518\n",
       "male      482\n",
       "Name: gender, dtype: int64"
      ]
     },
     "execution_count": 66,
     "metadata": {},
     "output_type": "execute_result"
    }
   ],
   "source": [
    "exams_df['gender'].value_counts()"
   ]
  },
  {
   "cell_type": "code",
   "execution_count": 67,
   "metadata": {},
   "outputs": [
    {
     "data": {
      "text/plain": [
       "group C    319\n",
       "group D    262\n",
       "group B    190\n",
       "group E    140\n",
       "group A     89\n",
       "Name: race/ethnicity, dtype: int64"
      ]
     },
     "execution_count": 67,
     "metadata": {},
     "output_type": "execute_result"
    }
   ],
   "source": [
    "exams_df['race/ethnicity'].value_counts()"
   ]
  },
  {
   "cell_type": "code",
   "execution_count": 68,
   "metadata": {},
   "outputs": [
    {
     "data": {
      "text/plain": [
       "some college          226\n",
       "associate's degree    222\n",
       "high school           196\n",
       "some high school      179\n",
       "bachelor's degree     118\n",
       "master's degree        59\n",
       "Name: parental level of education, dtype: int64"
      ]
     },
     "execution_count": 68,
     "metadata": {},
     "output_type": "execute_result"
    }
   ],
   "source": [
    "exams_df['parental level of education'].value_counts()"
   ]
  },
  {
   "cell_type": "code",
   "execution_count": 69,
   "metadata": {},
   "outputs": [
    {
     "data": {
      "text/plain": [
       "standard        645\n",
       "free/reduced    355\n",
       "Name: lunch, dtype: int64"
      ]
     },
     "execution_count": 69,
     "metadata": {},
     "output_type": "execute_result"
    }
   ],
   "source": [
    "exams_df['lunch'].value_counts()"
   ]
  },
  {
   "cell_type": "code",
   "execution_count": 70,
   "metadata": {},
   "outputs": [
    {
     "data": {
      "text/plain": [
       "none         642\n",
       "completed    358\n",
       "Name: test preparation course, dtype: int64"
      ]
     },
     "execution_count": 70,
     "metadata": {},
     "output_type": "execute_result"
    }
   ],
   "source": [
    "exams_df['test preparation course'].value_counts()"
   ]
  },
  {
   "cell_type": "code",
   "execution_count": 71,
   "metadata": {},
   "outputs": [
    {
     "name": "stdout",
     "output_type": "stream",
     "text": [
      "Gender Categories: ['female' 'male']\n",
      "\n",
      "\n",
      "Race/Ethnicity Categories: ['group B' 'group C' 'group A' 'group D' 'group E']\n",
      "\n",
      "\n",
      "Parental Level of Education Categories: [\"bachelor's degree\" 'some college' \"master's degree\" \"associate's degree\"\n",
      " 'high school' 'some high school']\n",
      "\n",
      "\n",
      "Lunch Categories: ['standard' 'free/reduced']\n",
      "\n",
      "\n",
      "Test Preparation Course Categories: ['none' 'completed']\n"
     ]
    }
   ],
   "source": [
    "print('Gender Categories: {}'.format(exams_df['gender'].unique()))\n",
    "print('\\n')\n",
    "print('Race/Ethnicity Categories: {}'.format(exams_df['race/ethnicity'].unique()))\n",
    "print('\\n')\n",
    "print('Parental Level of Education Categories: {}'.format(exams_df['parental level of education'].unique()))\n",
    "print('\\n')\n",
    "print('Lunch Categories: {}'.format(exams_df['lunch'].unique()))\n",
    "print('\\n')\n",
    "print('Test Preparation Course Categories: {}'.format(exams_df['test preparation course'].unique()))"
   ]
  },
  {
   "cell_type": "markdown",
   "metadata": {},
   "source": [
    "**Notes:** There are no missing values, yay! Gender, race/ethnicity, parental level of education, lunch, test preparation course are all categorical. Math score, reading score, writing score are continuous. "
   ]
  },
  {
   "cell_type": "markdown",
   "metadata": {},
   "source": [
    "## 1.) Are there any differences between the genders, ethnicities, and parental level of education with respect to their performances in exams?"
   ]
  },
  {
   "cell_type": "markdown",
   "metadata": {},
   "source": [
    "## Test by Grouping"
   ]
  },
  {
   "cell_type": "code",
   "execution_count": 77,
   "metadata": {},
   "outputs": [
    {
     "data": {
      "text/html": [
       "<div>\n",
       "<style scoped>\n",
       "    .dataframe tbody tr th:only-of-type {\n",
       "        vertical-align: middle;\n",
       "    }\n",
       "\n",
       "    .dataframe tbody tr th {\n",
       "        vertical-align: top;\n",
       "    }\n",
       "\n",
       "    .dataframe thead th {\n",
       "        text-align: right;\n",
       "    }\n",
       "</style>\n",
       "<table border=\"1\" class=\"dataframe\">\n",
       "  <thead>\n",
       "    <tr style=\"text-align: right;\">\n",
       "      <th></th>\n",
       "      <th>math score</th>\n",
       "      <th>reading score</th>\n",
       "      <th>writing score</th>\n",
       "    </tr>\n",
       "    <tr>\n",
       "      <th>gender</th>\n",
       "      <th></th>\n",
       "      <th></th>\n",
       "      <th></th>\n",
       "    </tr>\n",
       "  </thead>\n",
       "  <tbody>\n",
       "    <tr>\n",
       "      <th>female</th>\n",
       "      <td>63.633205</td>\n",
       "      <td>72.608108</td>\n",
       "      <td>72.467181</td>\n",
       "    </tr>\n",
       "    <tr>\n",
       "      <th>male</th>\n",
       "      <td>68.728216</td>\n",
       "      <td>65.473029</td>\n",
       "      <td>63.311203</td>\n",
       "    </tr>\n",
       "  </tbody>\n",
       "</table>\n",
       "</div>"
      ],
      "text/plain": [
       "        math score  reading score  writing score\n",
       "gender                                          \n",
       "female   63.633205      72.608108      72.467181\n",
       "male     68.728216      65.473029      63.311203"
      ]
     },
     "execution_count": 77,
     "metadata": {},
     "output_type": "execute_result"
    }
   ],
   "source": [
    "exams_df.groupby(\"gender\").mean()"
   ]
  },
  {
   "cell_type": "code",
   "execution_count": 16,
   "metadata": {},
   "outputs": [
    {
     "data": {
      "text/html": [
       "<div>\n",
       "<style scoped>\n",
       "    .dataframe tbody tr th:only-of-type {\n",
       "        vertical-align: middle;\n",
       "    }\n",
       "\n",
       "    .dataframe tbody tr th {\n",
       "        vertical-align: top;\n",
       "    }\n",
       "\n",
       "    .dataframe thead th {\n",
       "        text-align: right;\n",
       "    }\n",
       "</style>\n",
       "<table border=\"1\" class=\"dataframe\">\n",
       "  <thead>\n",
       "    <tr style=\"text-align: right;\">\n",
       "      <th></th>\n",
       "      <th>math score</th>\n",
       "      <th>reading score</th>\n",
       "      <th>writing score</th>\n",
       "    </tr>\n",
       "    <tr>\n",
       "      <th>race/ethnicity</th>\n",
       "      <th></th>\n",
       "      <th></th>\n",
       "      <th></th>\n",
       "    </tr>\n",
       "  </thead>\n",
       "  <tbody>\n",
       "    <tr>\n",
       "      <th>group A</th>\n",
       "      <td>61.629213</td>\n",
       "      <td>64.674157</td>\n",
       "      <td>62.674157</td>\n",
       "    </tr>\n",
       "    <tr>\n",
       "      <th>group B</th>\n",
       "      <td>63.452632</td>\n",
       "      <td>67.352632</td>\n",
       "      <td>65.600000</td>\n",
       "    </tr>\n",
       "    <tr>\n",
       "      <th>group C</th>\n",
       "      <td>64.463950</td>\n",
       "      <td>69.103448</td>\n",
       "      <td>67.827586</td>\n",
       "    </tr>\n",
       "    <tr>\n",
       "      <th>group D</th>\n",
       "      <td>67.362595</td>\n",
       "      <td>70.030534</td>\n",
       "      <td>70.145038</td>\n",
       "    </tr>\n",
       "    <tr>\n",
       "      <th>group E</th>\n",
       "      <td>73.821429</td>\n",
       "      <td>73.028571</td>\n",
       "      <td>71.407143</td>\n",
       "    </tr>\n",
       "  </tbody>\n",
       "</table>\n",
       "</div>"
      ],
      "text/plain": [
       "                math score  reading score  writing score\n",
       "race/ethnicity                                          \n",
       "group A          61.629213      64.674157      62.674157\n",
       "group B          63.452632      67.352632      65.600000\n",
       "group C          64.463950      69.103448      67.827586\n",
       "group D          67.362595      70.030534      70.145038\n",
       "group E          73.821429      73.028571      71.407143"
      ]
     },
     "execution_count": 16,
     "metadata": {},
     "output_type": "execute_result"
    }
   ],
   "source": [
    "exams_df.groupby('race/ethnicity').mean()"
   ]
  },
  {
   "cell_type": "code",
   "execution_count": 17,
   "metadata": {},
   "outputs": [
    {
     "data": {
      "text/html": [
       "<div>\n",
       "<style scoped>\n",
       "    .dataframe tbody tr th:only-of-type {\n",
       "        vertical-align: middle;\n",
       "    }\n",
       "\n",
       "    .dataframe tbody tr th {\n",
       "        vertical-align: top;\n",
       "    }\n",
       "\n",
       "    .dataframe thead th {\n",
       "        text-align: right;\n",
       "    }\n",
       "</style>\n",
       "<table border=\"1\" class=\"dataframe\">\n",
       "  <thead>\n",
       "    <tr style=\"text-align: right;\">\n",
       "      <th></th>\n",
       "      <th>math score</th>\n",
       "      <th>reading score</th>\n",
       "      <th>writing score</th>\n",
       "    </tr>\n",
       "    <tr>\n",
       "      <th>parental level of education</th>\n",
       "      <th></th>\n",
       "      <th></th>\n",
       "      <th></th>\n",
       "    </tr>\n",
       "  </thead>\n",
       "  <tbody>\n",
       "    <tr>\n",
       "      <th>associate's degree</th>\n",
       "      <td>67.882883</td>\n",
       "      <td>70.927928</td>\n",
       "      <td>69.896396</td>\n",
       "    </tr>\n",
       "    <tr>\n",
       "      <th>bachelor's degree</th>\n",
       "      <td>69.389831</td>\n",
       "      <td>73.000000</td>\n",
       "      <td>73.381356</td>\n",
       "    </tr>\n",
       "    <tr>\n",
       "      <th>high school</th>\n",
       "      <td>62.137755</td>\n",
       "      <td>64.704082</td>\n",
       "      <td>62.448980</td>\n",
       "    </tr>\n",
       "    <tr>\n",
       "      <th>master's degree</th>\n",
       "      <td>69.745763</td>\n",
       "      <td>75.372881</td>\n",
       "      <td>75.677966</td>\n",
       "    </tr>\n",
       "    <tr>\n",
       "      <th>some college</th>\n",
       "      <td>67.128319</td>\n",
       "      <td>69.460177</td>\n",
       "      <td>68.840708</td>\n",
       "    </tr>\n",
       "    <tr>\n",
       "      <th>some high school</th>\n",
       "      <td>63.497207</td>\n",
       "      <td>66.938547</td>\n",
       "      <td>64.888268</td>\n",
       "    </tr>\n",
       "  </tbody>\n",
       "</table>\n",
       "</div>"
      ],
      "text/plain": [
       "                             math score  reading score  writing score\n",
       "parental level of education                                          \n",
       "associate's degree            67.882883      70.927928      69.896396\n",
       "bachelor's degree             69.389831      73.000000      73.381356\n",
       "high school                   62.137755      64.704082      62.448980\n",
       "master's degree               69.745763      75.372881      75.677966\n",
       "some college                  67.128319      69.460177      68.840708\n",
       "some high school              63.497207      66.938547      64.888268"
      ]
     },
     "execution_count": 17,
     "metadata": {},
     "output_type": "execute_result"
    }
   ],
   "source": [
    "exams_df.groupby('parental level of education').mean()"
   ]
  },
  {
   "cell_type": "markdown",
   "metadata": {},
   "source": [
    "## Test Visually"
   ]
  },
  {
   "cell_type": "code",
   "execution_count": 18,
   "metadata": {},
   "outputs": [
    {
     "data": {
      "image/png": "[encoded data removed]",
      "text/plain": [
       "<Figure size 1440x360 with 3 Axes>"
      ]
     },
     "metadata": {
      "needs_background": "light"
     },
     "output_type": "display_data"
    }
   ],
   "source": [
    "plt.figure(figsize=(20,5))\n",
    "\n",
    "plt.subplot(1,3,1)\n",
    "sns.barplot(exams_df['gender'], exams_df['math score'])\n",
    "plt.title('Math Scores')\n",
    "\n",
    "plt.subplot(1,3,2)\n",
    "sns.barplot(exams_df['gender'], exams_df['reading score'])\n",
    "plt.title('Reading Scores')\n",
    "\n",
    "plt.subplot(1,3,3)\n",
    "sns.barplot(exams_df['gender'], exams_df['writing score'])\n",
    "plt.title('Writing Scores')\n",
    "\n",
    "plt.suptitle('Exam Scores by Gender')\n",
    "plt.show()"
   ]
  },
  {
   "cell_type": "code",
   "execution_count": 19,
   "metadata": {},
   "outputs": [
    {
     "data": {
      "image/png": "[encoded data removed]",
      "text/plain": [
       "<Figure size 1440x360 with 3 Axes>"
      ]
     },
     "metadata": {
      "needs_background": "light"
     },
     "output_type": "display_data"
    }
   ],
   "source": [
    "plt.figure(figsize=(20,5))\n",
    "\n",
    "plt.subplot(1,3,1)\n",
    "sns.barplot(exams_df['race/ethnicity'], exams_df['math score'])\n",
    "plt.title('Math Scores')\n",
    "\n",
    "plt.subplot(1,3,2)\n",
    "sns.barplot(exams_df['race/ethnicity'], exams_df['reading score'])\n",
    "plt.title('Reading Scores')\n",
    "\n",
    "plt.subplot(1,3,3)\n",
    "sns.barplot(exams_df['race/ethnicity'], exams_df['writing score'])\n",
    "plt.title('Writing Scores')\n",
    "\n",
    "plt.suptitle('Exam Scores by Race / Ethnicity')\n",
    "plt.show()"
   ]
  },
  {
   "cell_type": "code",
   "execution_count": 20,
   "metadata": {},
   "outputs": [
    {
     "data": {
      "image/png": "[encoded data removed]",
      "text/plain": [
       "<Figure size 1440x360 with 3 Axes>"
      ]
     },
     "metadata": {
      "needs_background": "light"
     },
     "output_type": "display_data"
    }
   ],
   "source": [
    "plt.figure(figsize=(20,5))\n",
    "\n",
    "plt.subplot(1,3,1)\n",
    "sns.barplot(exams_df['parental level of education'], exams_df['math score'])\n",
    "plt.title('Math Scores')\n",
    "\n",
    "plt.subplot(1,3,2)\n",
    "sns.barplot(exams_df['parental level of education'], exams_df['reading score'])\n",
    "plt.title('Reading Scores')\n",
    "\n",
    "plt.subplot(1,3,3)\n",
    "sns.barplot(exams_df['parental level of education'], exams_df['writing score'])\n",
    "plt.title('Writing Scores')\n",
    "\n",
    "plt.suptitle('Exam Scores by Parental Level of Education')\n",
    "plt.show()"
   ]
  },
  {
   "cell_type": "markdown",
   "metadata": {},
   "source": [
    "## Test Statistically"
   ]
  },
  {
   "cell_type": "code",
   "execution_count": 23,
   "metadata": {},
   "outputs": [
    {
     "name": "stdout",
     "output_type": "stream",
     "text": [
      "------------------------------------------------\n",
      "Gender comparison for variable: math score\n",
      "------------------------------------------------\n",
      "T test between groups female and male: \n",
      "Ttest_indResult(statistic=array([-5.38324587]), pvalue=array([9.12018555e-08]))\n",
      "------------------------------------------------\n",
      "Gender comparison for variable: reading score\n",
      "------------------------------------------------\n",
      "T test between groups female and male: \n",
      "Ttest_indResult(statistic=array([7.95930801]), pvalue=array([4.68053874e-15]))\n",
      "------------------------------------------------\n",
      "Gender comparison for variable: writing score\n",
      "------------------------------------------------\n",
      "T test between groups female and male: \n",
      "Ttest_indResult(statistic=array([9.97955791]), pvalue=array([2.01987771e-22]))\n",
      "------------------------------------------------\n",
      "Race / Ethnicity comparison for variable: math score\n",
      "------------------------------------------------\n",
      "T test between groups group B and group C: \n",
      "Ttest_indResult(statistic=array([-0.73156699]), pvalue=array([0.46477089]))\n",
      "T test between groups group B and group A: \n",
      "Ttest_indResult(statistic=array([0.93550763]), pvalue=array([0.3503416]))\n",
      "T test between groups group B and group D: \n",
      "Ttest_indResult(statistic=array([-2.8284554]), pvalue=array([0.0048862]))\n",
      "T test between groups group B and group E: \n",
      "Ttest_indResult(statistic=array([-6.00739705]), pvalue=array([5.00794605e-09]))\n",
      "T test between groups group C and group A: \n",
      "Ttest_indResult(statistic=array([1.59972203]), pvalue=array([0.11043811]))\n",
      "T test between groups group C and group D: \n",
      "Ttest_indResult(statistic=array([-2.41858625]), pvalue=array([0.01588835]))\n",
      "T test between groups group C and group E: \n",
      "Ttest_indResult(statistic=array([-6.12764252]), pvalue=array([1.92723885e-09]))\n",
      "T test between groups group A and group D: \n",
      "Ttest_indResult(statistic=array([-3.34669824]), pvalue=array([0.00090686]))\n",
      "T test between groups group A and group E: \n",
      "Ttest_indResult(statistic=array([-5.93614103]), pvalue=array([1.08355912e-08]))\n",
      "T test between groups group D and group E: \n",
      "Ttest_indResult(statistic=array([-4.28228721]), pvalue=array([2.31876403e-05]))\n",
      "------------------------------------------------\n",
      "Race / Ethnicity comparison for variable: reading score\n",
      "------------------------------------------------\n",
      "T test between groups group B and group C: \n",
      "Ttest_indResult(statistic=array([-1.32231562]), pvalue=array([0.18665928]))\n",
      "T test between groups group B and group A: \n",
      "Ttest_indResult(statistic=array([1.36336823]), pvalue=array([0.17387355]))\n",
      "T test between groups group B and group D: \n",
      "Ttest_indResult(statistic=array([-1.94515636]), pvalue=array([0.05237862]))\n",
      "T test between groups group B and group E: \n",
      "Ttest_indResult(statistic=array([-3.38606695]), pvalue=array([0.00079516]))\n",
      "T test between groups group C and group A: \n",
      "Ttest_indResult(statistic=array([2.57543222]), pvalue=array([0.0103644]))\n",
      "T test between groups group C and group D: \n",
      "Ttest_indResult(statistic=array([-0.79701093]), pvalue=array([0.42577138]))\n",
      "T test between groups group C and group E: \n",
      "Ttest_indResult(statistic=array([-2.71330186]), pvalue=array([0.00691328]))\n",
      "T test between groups group A and group D: \n",
      "Ttest_indResult(statistic=array([-3.04685486]), pvalue=array([0.00248865]))\n",
      "T test between groups group A and group E: \n",
      "Ttest_indResult(statistic=array([-4.07110623]), pvalue=array([6.46339593e-05]))\n",
      "T test between groups group D and group E: \n",
      "Ttest_indResult(statistic=array([-2.01064794]), pvalue=array([0.04503331]))\n",
      "------------------------------------------------\n",
      "Race / Ethnicity comparison for variable: writing score\n",
      "------------------------------------------------\n",
      "T test between groups group B and group C: \n",
      "Ttest_indResult(statistic=array([-1.59649634]), pvalue=array([0.1110011]))\n",
      "T test between groups group B and group A: \n",
      "Ttest_indResult(statistic=array([1.46244206]), pvalue=array([0.14475374]))\n",
      "T test between groups group B and group D: \n",
      "Ttest_indResult(statistic=array([-3.19929333]), pvalue=array([0.001475]))\n",
      "T test between groups group B and group E: \n",
      "Ttest_indResult(statistic=array([-3.38319783]), pvalue=array([0.00080323]))\n",
      "T test between groups group C and group A: \n",
      "Ttest_indResult(statistic=array([2.8488724]), pvalue=array([0.00461069]))\n",
      "T test between groups group C and group D: \n",
      "Ttest_indResult(statistic=array([-1.88966315]), pvalue=array([0.05930233]))\n",
      "T test between groups group C and group E: \n",
      "Ttest_indResult(statistic=array([-2.35028119]), pvalue=array([0.01918354]))\n",
      "T test between groups group A and group D: \n",
      "Ttest_indResult(statistic=array([-4.15563164]), pvalue=array([4.08480573e-05]))\n",
      "T test between groups group A and group E: \n",
      "Ttest_indResult(statistic=array([-4.22347366]), pvalue=array([3.48327806e-05]))\n",
      "T test between groups group D and group E: \n",
      "Ttest_indResult(statistic=array([-0.82397366]), pvalue=array([0.41044555]))\n",
      "------------------------------------------------\n",
      "Parental Education comparison for variable: math score\n",
      "------------------------------------------------\n",
      "T test between groups bachelor's degree and some college: \n",
      "Ttest_indResult(statistic=array([1.37023528]), pvalue=array([0.17151224]))\n",
      "T test between groups bachelor's degree and master's degree: \n",
      "Ttest_indResult(statistic=array([-0.14868197]), pvalue=array([0.88197578]))\n",
      "T test between groups bachelor's degree and associate's degree: \n",
      "Ttest_indResult(statistic=array([0.87866419]), pvalue=array([0.38020758]))\n",
      "T test between groups bachelor's degree and high school: \n",
      "Ttest_indResult(statistic=array([4.23614362]), pvalue=array([2.99653459e-05]))\n",
      "T test between groups bachelor's degree and some high school: \n",
      "Ttest_indResult(statistic=array([3.1967186]), pvalue=array([0.00154092]))\n",
      "T test between groups some college and master's degree: \n",
      "Ttest_indResult(statistic=array([-1.23563342]), pvalue=array([0.21761957]))\n",
      "T test between groups some college and associate's degree: \n",
      "Ttest_indResult(statistic=array([-0.54268427]), pvalue=array([0.58761828]))\n",
      "T test between groups some college and high school: \n",
      "Ttest_indResult(statistic=array([3.54610795]), pvalue=array([0.00043498]))\n",
      "T test between groups some college and some high school: \n",
      "Ttest_indResult(statistic=array([2.41170462]), pvalue=array([0.01632436]))\n",
      "T test between groups master's degree and associate's degree: \n",
      "Ttest_indResult(statistic=array([0.84112297]), pvalue=array([0.40099936]))\n",
      "T test between groups master's degree and high school: \n",
      "Ttest_indResult(statistic=array([3.48937593]), pvalue=array([0.00057093]))\n",
      "T test between groups master's degree and some high school: \n",
      "Ttest_indResult(statistic=array([2.64425721]), pvalue=array([0.00873623]))\n",
      "T test between groups associate's degree and high school: \n",
      "Ttest_indResult(statistic=array([3.94813253]), pvalue=array([9.24731427e-05]))\n",
      "T test between groups associate's degree and some high school: \n",
      "Ttest_indResult(statistic=array([2.82005398]), pvalue=array([0.00504108]))\n",
      "T test between groups high school and some high school: \n",
      "Ttest_indResult(statistic=array([-0.86406295]), pvalue=array([0.38810861]))\n",
      "------------------------------------------------\n",
      "Parental Education comparison for variable: reading score\n",
      "------------------------------------------------\n",
      "T test between groups bachelor's degree and some college: \n",
      "Ttest_indResult(statistic=array([2.20488212]), pvalue=array([0.02812756]))\n",
      "T test between groups bachelor's degree and master's degree: \n",
      "Ttest_indResult(statistic=array([-1.05408589]), pvalue=array([0.29329675]))\n",
      "T test between groups bachelor's degree and associate's degree: \n",
      "Ttest_indResult(statistic=array([1.29779699]), pvalue=array([0.19524206]))\n",
      "T test between groups bachelor's degree and high school: \n",
      "Ttest_indResult(statistic=array([5.0175779]), pvalue=array([8.80425031e-07]))\n",
      "T test between groups bachelor's degree and some high school: \n",
      "Ttest_indResult(statistic=array([3.40392707]), pvalue=array([0.0007562]))\n",
      "T test between groups some college and master's degree: \n",
      "Ttest_indResult(statistic=array([-2.88884337]), pvalue=array([0.00416544]))\n",
      "T test between groups some college and associate's degree: \n",
      "Ttest_indResult(statistic=array([-1.11231882]), pvalue=array([0.26660029]))\n",
      "T test between groups some college and high school: \n",
      "Ttest_indResult(statistic=array([3.45784277]), pvalue=array([0.0006001]))\n",
      "T test between groups some college and some high school: \n",
      "Ttest_indResult(statistic=array([1.71416197]), pvalue=array([0.08726787]))\n",
      "T test between groups master's degree and associate's degree: \n",
      "Ttest_indResult(statistic=array([2.19120158]), pvalue=array([0.02926415]))\n",
      "T test between groups master's degree and high school: \n",
      "Ttest_indResult(statistic=array([5.11315873]), pvalue=array([6.25755812e-07]))\n",
      "T test between groups master's degree and some high school: \n",
      "Ttest_indResult(statistic=array([3.72615741]), pvalue=array([0.00024335]))\n",
      "T test between groups associate's degree and high school: \n",
      "Ttest_indResult(statistic=array([4.53802142]), pvalue=array([7.4421678e-06]))\n",
      "T test between groups associate's degree and some high school: \n",
      "Ttest_indResult(statistic=array([2.71836022]), pvalue=array([0.00684677]))\n",
      "T test between groups high school and some high school: \n",
      "Ttest_indResult(statistic=array([-1.46128476]), pvalue=array([0.1447792]))\n",
      "------------------------------------------------\n",
      "Parental Education comparison for variable: writing score\n",
      "------------------------------------------------\n",
      "T test between groups bachelor's degree and some college: \n",
      "Ttest_indResult(statistic=array([2.68033147]), pvalue=array([0.00771101]))\n",
      "T test between groups bachelor's degree and master's degree: \n",
      "Ttest_indResult(statistic=array([-0.99987413]), pvalue=array([0.31875196]))\n",
      "T test between groups bachelor's degree and associate's degree: \n",
      "Ttest_indResult(statistic=array([2.11592966]), pvalue=array([0.03508162]))\n",
      "T test between groups bachelor's degree and high school: \n",
      "Ttest_indResult(statistic=array([6.54738094]), pvalue=array([2.40762538e-10]))\n",
      "T test between groups bachelor's degree and some high school: \n",
      "Ttest_indResult(statistic=array([4.6677331]), pvalue=array([4.62819853e-06]))\n",
      "T test between groups some college and master's degree: \n",
      "Ttest_indResult(statistic=array([-3.16876906]), pvalue=array([0.00169859]))\n",
      "T test between groups some college and associate's degree: \n",
      "Ttest_indResult(statistic=array([-0.76159686]), pvalue=array([0.44670317]))\n",
      "T test between groups some college and high school: \n",
      "Ttest_indResult(statistic=array([4.48852088]), pvalue=array([9.2750178e-06]))\n",
      "T test between groups some college and some high school: \n",
      "Ttest_indResult(statistic=array([2.57572114]), pvalue=array([0.01035853]))\n",
      "T test between groups master's degree and associate's degree: \n",
      "Ttest_indResult(statistic=array([2.78124155]), pvalue=array([0.00578403]))\n",
      "T test between groups master's degree and high school: \n",
      "Ttest_indResult(statistic=array([6.36090488]), pvalue=array([9.3269303e-10]))\n",
      "T test between groups master's degree and some high school: \n",
      "Ttest_indResult(statistic=array([4.70758382]), pvalue=array([4.27546515e-06]))\n",
      "T test between groups associate's degree and high school: \n",
      "Ttest_indResult(statistic=array([5.34872564]), pvalue=array([1.46505455e-07]))\n",
      "T test between groups associate's degree and some high school: \n",
      "Ttest_indResult(statistic=array([3.33172235]), pvalue=array([0.0009436]))\n",
      "T test between groups high school and some high school: \n",
      "Ttest_indResult(statistic=array([-1.58388853]), pvalue=array([0.11406654]))\n"
     ]
    }
   ],
   "source": [
    "gender_list = exams_df['gender'].unique()\n",
    "race_ethnicity_list = exams_df['race/ethnicity'].unique()\n",
    "parental_education_list = exams_df['parental level of education'].unique()\n",
    "\n",
    "grouped_gender_df = exams_df.groupby('gender')\n",
    "grouped_race_ethnicity_df = exams_df.groupby('race/ethnicity')\n",
    "grouped_parental_education_df = exams_df.groupby('parental level of education')\n",
    "\n",
    "for variable in ['math score', 'reading score', 'writing score']:\n",
    "    print('------------------------------------------------')\n",
    "    print('{} comparison for variable: {}'.format('Gender', variable))\n",
    "    print('------------------------------------------------')\n",
    "    for i in range(0, len(gender_list)):\n",
    "        for j in range(i+1, len(gender_list)):\n",
    "            print('T test between groups {0} and {1}: '.format(gender_list[i], gender_list[j]))\n",
    "            print(stats.ttest_ind(\n",
    "                exams_df.loc[exams_df['gender']==gender_list[i],[variable]], \n",
    "                exams_df.loc[exams_df['gender']==gender_list[j],[variable]]))\n",
    "\n",
    "for variable in ['math score', 'reading score', 'writing score']:\n",
    "    print('------------------------------------------------')\n",
    "    print('{} comparison for variable: {}'.format('Race / Ethnicity', variable))\n",
    "    print('------------------------------------------------')\n",
    "    for i in range(0, len(race_ethnicity_list)):\n",
    "        for j in range(i+1, len(race_ethnicity_list)):\n",
    "            print('T test between groups {0} and {1}: '.format(race_ethnicity_list[i], race_ethnicity_list[j]))\n",
    "            print(stats.ttest_ind(\n",
    "                exams_df.loc[exams_df['race/ethnicity']==race_ethnicity_list[i],[variable]], \n",
    "                exams_df.loc[exams_df['race/ethnicity']==race_ethnicity_list[j],[variable]]))\n",
    "            \n",
    "for variable in ['math score', 'reading score', 'writing score']:\n",
    "    print('------------------------------------------------')\n",
    "    print('{} comparison for variable: {}'.format('Parental Education', variable))\n",
    "    print('------------------------------------------------')\n",
    "    for i in range(0, len(parental_education_list)):\n",
    "        for j in range(i+1, len(parental_education_list)):\n",
    "            print('T test between groups {0} and {1}: '.format(parental_education_list[i], parental_education_list[j]))\n",
    "            print(stats.ttest_ind(\n",
    "                exams_df.loc[exams_df['parental level of education']==parental_education_list[i],[variable]], \n",
    "                exams_df.loc[exams_df['parental level of education']==parental_education_list[j],[variable]]))"
   ]
  },
  {
   "cell_type": "markdown",
   "metadata": {},
   "source": [
    "### Conclusion "
   ]
  },
  {
   "cell_type": "markdown",
   "metadata": {},
   "source": [
    "We can see there are significant differences with multiple factors both visually and statistically. "
   ]
  },
  {
   "cell_type": "markdown",
   "metadata": {},
   "source": [
    "## 2. Are there any differences between the lunch types with respect to their performances in exams? If there are, how do you explain this?"
   ]
  },
  {
   "cell_type": "code",
   "execution_count": 78,
   "metadata": {},
   "outputs": [
    {
     "data": {
      "text/html": [
       "<div>\n",
       "<style scoped>\n",
       "    .dataframe tbody tr th:only-of-type {\n",
       "        vertical-align: middle;\n",
       "    }\n",
       "\n",
       "    .dataframe tbody tr th {\n",
       "        vertical-align: top;\n",
       "    }\n",
       "\n",
       "    .dataframe thead th {\n",
       "        text-align: right;\n",
       "    }\n",
       "</style>\n",
       "<table border=\"1\" class=\"dataframe\">\n",
       "  <thead>\n",
       "    <tr style=\"text-align: right;\">\n",
       "      <th></th>\n",
       "      <th>math score</th>\n",
       "      <th>reading score</th>\n",
       "      <th>writing score</th>\n",
       "    </tr>\n",
       "    <tr>\n",
       "      <th>lunch</th>\n",
       "      <th></th>\n",
       "      <th></th>\n",
       "      <th></th>\n",
       "    </tr>\n",
       "  </thead>\n",
       "  <tbody>\n",
       "    <tr>\n",
       "      <th>free/reduced</th>\n",
       "      <td>58.921127</td>\n",
       "      <td>64.653521</td>\n",
       "      <td>63.022535</td>\n",
       "    </tr>\n",
       "    <tr>\n",
       "      <th>standard</th>\n",
       "      <td>70.034109</td>\n",
       "      <td>71.654264</td>\n",
       "      <td>70.823256</td>\n",
       "    </tr>\n",
       "  </tbody>\n",
       "</table>\n",
       "</div>"
      ],
      "text/plain": [
       "              math score  reading score  writing score\n",
       "lunch                                                 \n",
       "free/reduced   58.921127      64.653521      63.022535\n",
       "standard       70.034109      71.654264      70.823256"
      ]
     },
     "execution_count": 78,
     "metadata": {},
     "output_type": "execute_result"
    }
   ],
   "source": [
    "exams_df.groupby('lunch').mean()"
   ]
  },
  {
   "cell_type": "markdown",
   "metadata": {},
   "source": [
    "## Test Visually"
   ]
  },
  {
   "cell_type": "code",
   "execution_count": 25,
   "metadata": {},
   "outputs": [
    {
     "data": {
      "image/png": "[encoded data removed]",
      "text/plain": [
       "<Figure size 1440x360 with 3 Axes>"
      ]
     },
     "metadata": {
      "needs_background": "light"
     },
     "output_type": "display_data"
    }
   ],
   "source": [
    "plt.figure(figsize=(20,5))\n",
    "\n",
    "plt.subplot(1,3,1)\n",
    "sns.barplot(exams_df['lunch'], exams_df['math score'])\n",
    "plt.title('Math Scores')\n",
    "\n",
    "plt.subplot(1,3,2)\n",
    "sns.barplot(exams_df['lunch'], exams_df['reading score'])\n",
    "plt.title('Reading Scores')\n",
    "\n",
    "plt.subplot(1,3,3)\n",
    "sns.barplot(exams_df['lunch'], exams_df['writing score'])\n",
    "plt.title('Writing Scores')\n",
    "\n",
    "plt.suptitle('Exam Scores by Gender')\n",
    "plt.show()"
   ]
  },
  {
   "cell_type": "markdown",
   "metadata": {},
   "source": [
    "## Test Statistically"
   ]
  },
  {
   "cell_type": "code",
   "execution_count": 26,
   "metadata": {},
   "outputs": [
    {
     "name": "stdout",
     "output_type": "stream",
     "text": [
      "------------------------------------------------\n",
      "Lunch comparison for variable: math score\n",
      "------------------------------------------------\n",
      "T test between groups standard and free/reduced: \n",
      "Ttest_indResult(statistic=array([11.83718047]), pvalue=array([2.4131956e-30]))\n",
      "------------------------------------------------\n",
      "Lunch comparison for variable: reading score\n",
      "------------------------------------------------\n",
      "T test between groups standard and free/reduced: \n",
      "Ttest_indResult(statistic=array([7.45105647]), pvalue=array([2.00279665e-13]))\n",
      "------------------------------------------------\n",
      "Lunch comparison for variable: writing score\n",
      "------------------------------------------------\n",
      "T test between groups standard and free/reduced: \n",
      "Ttest_indResult(statistic=array([8.0097842]), pvalue=array([3.18618958e-15]))\n"
     ]
    }
   ],
   "source": [
    "lunch_list = exams_df['lunch'].unique()\n",
    "\n",
    "grouped_lunch_df = exams_df.groupby('lunch')\n",
    "\n",
    "for variable in ['math score', 'reading score', 'writing score']:\n",
    "    print('------------------------------------------------')\n",
    "    print('{} comparison for variable: {}'.format('Lunch', variable))\n",
    "    print('------------------------------------------------')\n",
    "    for i in range(0, len(lunch_list)):\n",
    "        for j in range(i+1, len(lunch_list)):\n",
    "            print('T test between groups {0} and {1}: '.format(lunch_list[i], lunch_list[j]))\n",
    "            print(stats.ttest_ind(\n",
    "                exams_df.loc[exams_df['lunch']==lunch_list[i],[variable]], \n",
    "                exams_df.loc[exams_df['lunch']==lunch_list[j],[variable]]))"
   ]
  },
  {
   "cell_type": "markdown",
   "metadata": {},
   "source": [
    "### Conclusion"
   ]
  },
  {
   "cell_type": "markdown",
   "metadata": {},
   "source": [
    "There is a significant difference in the test scores by lunch type. Likely the families that are not on free/reduced lunch are more involved, are able to provide greater resources for their children (like private tutoring), etc. "
   ]
  },
  {
   "cell_type": "markdown",
   "metadata": {},
   "source": [
    "## 3. Does the test preparation course seem to have an effect on the exam performances?"
   ]
  },
  {
   "cell_type": "markdown",
   "metadata": {},
   "source": [
    "## Test Visually"
   ]
  },
  {
   "cell_type": "code",
   "execution_count": 31,
   "metadata": {},
   "outputs": [
    {
     "data": {
      "image/png": "[encoded data removed]",
      "text/plain": [
       "<Figure size 1440x360 with 3 Axes>"
      ]
     },
     "metadata": {
      "needs_background": "light"
     },
     "output_type": "display_data"
    }
   ],
   "source": [
    "plt.figure(figsize=(20,5))\n",
    "\n",
    "plt.subplot(1,3,1)\n",
    "sns.barplot(exams_df['test preparation course'], exams_df['math score'])\n",
    "plt.title('Math Scores')\n",
    "\n",
    "plt.subplot(1,3,2)\n",
    "sns.barplot(exams_df['test preparation course'], exams_df['reading score'])\n",
    "plt.title('Reading Scores')\n",
    "\n",
    "plt.subplot(1,3,3)\n",
    "sns.barplot(exams_df['test preparation course'], exams_df['writing score'])\n",
    "plt.title('Writing Scores')\n",
    "\n",
    "plt.suptitle('Exam Scores by Test Preparation Course')\n",
    "plt.show()"
   ]
  },
  {
   "cell_type": "code",
   "execution_count": 56,
   "metadata": {},
   "outputs": [
    {
     "data": {
      "text/html": [
       "<div>\n",
       "<style scoped>\n",
       "    .dataframe tbody tr th:only-of-type {\n",
       "        vertical-align: middle;\n",
       "    }\n",
       "\n",
       "    .dataframe tbody tr th {\n",
       "        vertical-align: top;\n",
       "    }\n",
       "\n",
       "    .dataframe thead th {\n",
       "        text-align: right;\n",
       "    }\n",
       "</style>\n",
       "<table border=\"1\" class=\"dataframe\">\n",
       "  <thead>\n",
       "    <tr style=\"text-align: right;\">\n",
       "      <th></th>\n",
       "      <th>math score</th>\n",
       "      <th>reading score</th>\n",
       "      <th>writing score</th>\n",
       "    </tr>\n",
       "    <tr>\n",
       "      <th>test preparation course</th>\n",
       "      <th></th>\n",
       "      <th></th>\n",
       "      <th></th>\n",
       "    </tr>\n",
       "  </thead>\n",
       "  <tbody>\n",
       "    <tr>\n",
       "      <th>completed</th>\n",
       "      <td>69.695531</td>\n",
       "      <td>73.893855</td>\n",
       "      <td>74.418994</td>\n",
       "    </tr>\n",
       "    <tr>\n",
       "      <th>none</th>\n",
       "      <td>64.077882</td>\n",
       "      <td>66.534268</td>\n",
       "      <td>64.504673</td>\n",
       "    </tr>\n",
       "  </tbody>\n",
       "</table>\n",
       "</div>"
      ],
      "text/plain": [
       "                         math score  reading score  writing score\n",
       "test preparation course                                          \n",
       "completed                 69.695531      73.893855      74.418994\n",
       "none                      64.077882      66.534268      64.504673"
      ]
     },
     "execution_count": 56,
     "metadata": {},
     "output_type": "execute_result"
    }
   ],
   "source": [
    "exams_df.groupby(['test preparation course']).mean()"
   ]
  },
  {
   "cell_type": "markdown",
   "metadata": {},
   "source": [
    "## Conclusion"
   ]
  },
  {
   "cell_type": "markdown",
   "metadata": {},
   "source": [
    "The test prep does seem to have an effect on exam performances. "
   ]
  },
  {
   "cell_type": "markdown",
   "metadata": {},
   "source": [
    "## 4. Which 2 exam scores are most correlated with each other?"
   ]
  },
  {
   "cell_type": "code",
   "execution_count": 43,
   "metadata": {},
   "outputs": [
    {
     "data": {
      "text/html": [
       "<div>\n",
       "<style scoped>\n",
       "    .dataframe tbody tr th:only-of-type {\n",
       "        vertical-align: middle;\n",
       "    }\n",
       "\n",
       "    .dataframe tbody tr th {\n",
       "        vertical-align: top;\n",
       "    }\n",
       "\n",
       "    .dataframe thead th {\n",
       "        text-align: right;\n",
       "    }\n",
       "</style>\n",
       "<table border=\"1\" class=\"dataframe\">\n",
       "  <thead>\n",
       "    <tr style=\"text-align: right;\">\n",
       "      <th></th>\n",
       "      <th>math score</th>\n",
       "      <th>reading score</th>\n",
       "      <th>writing score</th>\n",
       "    </tr>\n",
       "  </thead>\n",
       "  <tbody>\n",
       "    <tr>\n",
       "      <th>math score</th>\n",
       "      <td>1.000000</td>\n",
       "      <td>0.817580</td>\n",
       "      <td>0.802642</td>\n",
       "    </tr>\n",
       "    <tr>\n",
       "      <th>reading score</th>\n",
       "      <td>0.817580</td>\n",
       "      <td>1.000000</td>\n",
       "      <td>0.954598</td>\n",
       "    </tr>\n",
       "    <tr>\n",
       "      <th>writing score</th>\n",
       "      <td>0.802642</td>\n",
       "      <td>0.954598</td>\n",
       "      <td>1.000000</td>\n",
       "    </tr>\n",
       "  </tbody>\n",
       "</table>\n",
       "</div>"
      ],
      "text/plain": [
       "               math score  reading score  writing score\n",
       "math score       1.000000       0.817580       0.802642\n",
       "reading score    0.817580       1.000000       0.954598\n",
       "writing score    0.802642       0.954598       1.000000"
      ]
     },
     "execution_count": 43,
     "metadata": {},
     "output_type": "execute_result"
    }
   ],
   "source": [
    "exams_df.corr()"
   ]
  },
  {
   "cell_type": "markdown",
   "metadata": {},
   "source": [
    "## Conclusion"
   ]
  },
  {
   "cell_type": "markdown",
   "metadata": {},
   "source": [
    "Reading and Writing have the strongest correlation. "
   ]
  }
 ],
 "metadata": {
  "kernelspec": {
   "display_name": "Python 3",
   "language": "python",
   "name": "python3"
  },
  "language_info": {
   "codemirror_mode": {
    "name": "ipython",
    "version": 3
   },
   "file_extension": ".py",
   "mimetype": "text/x-python",
   "name": "python",
   "nbconvert_exporter": "python",
   "pygments_lexer": "ipython3",
   "version": "3.7.3"
  }
 },
 "nbformat": 4,
 "nbformat_minor": 2
}
