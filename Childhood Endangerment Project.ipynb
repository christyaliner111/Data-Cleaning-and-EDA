{
 "cells": [
  {
   "cell_type": "markdown",
   "metadata": {
    "slideshow": {
     "slide_type": "slide"
    }
   },
   "source": [
    "# Childhood Endangerment and Median Income\n",
    "By Christy Liner"
   ]
  },
  {
   "cell_type": "markdown",
   "metadata": {},
   "source": [
    "-------------------------------------------------------------------------"
   ]
  },
  {
   "cell_type": "markdown",
   "metadata": {
    "slideshow": {
     "slide_type": "slide"
    }
   },
   "source": [
    "The Texas Department of Family and Protective Services (DFPS) works with communities to promote safe and healthy families and protect children and vulnerable adults from abuse, neglect, and exploitation (source: dfps.state.tx.us). \n",
    "\n",
    "In 2017 alone, there were over 66,000 confirmed child victims in Texas. Understanding correlations between income levels and child endangerment can provide insight to key strategic decision makers on how to prevent child abuse. "
   ]
  },
  {
   "cell_type": "markdown",
   "metadata": {},
   "source": [
    "## Hypothesis"
   ]
  },
  {
   "cell_type": "markdown",
   "metadata": {
    "slideshow": {
     "slide_type": "slide"
    }
   },
   "source": [
    "**Null hypothesis:** There is no significant difference in the victimization rate by income levels.\n",
    "\n",
    "**Alternative hypothesis:** There is a significant difference in the victimization rate by income levels, which can be seen by median income levels per county. \n",
    "\n",
    "*A 95% confidence interval will be used. A p value below .05 on our statistical tests will indicate that the null hypothesis should be rejected.*"
   ]
  },
  {
   "cell_type": "markdown",
   "metadata": {},
   "source": [
    "## Data Gathering"
   ]
  },
  {
   "cell_type": "markdown",
   "metadata": {
    "slideshow": {
     "slide_type": "slide"
    }
   },
   "source": [
    "The data comes from the Texas Department of Family and Protective Services and US Census Bureau. There are missing rows in the victim data where there are no victims in that county. To account for this, I included each of these counties from a join with the population data, and used 0 for the number of victims in that county. This was true for 10 counties. \n",
    "\n",
    "Victim Data:\n",
    "https://data.texas.gov/Social-Services/CPI-3-8-Abuse-Neglect-Investigations-Alleged-and-C/v63e-6dss\n",
    "\n",
    "Population Data:\n",
    "https://data.texas.gov/Social-Services/CPS-1-1-Texas-Child-Population-ages-0-17-by-County/x5xb-idr6\n",
    "\n",
    "Median Income Data:\n",
    "https://www2.census.gov/programs-surveys/saipe/datasets/2017/2017-state-and-county/est17all.xls\n"
   ]
  },
  {
   "cell_type": "markdown",
   "metadata": {},
   "source": [
    "## Analysis Summary"
   ]
  },
  {
   "cell_type": "markdown",
   "metadata": {
    "slideshow": {
     "slide_type": "slide"
    }
   },
   "source": [
    "For this analysis, I created a DataFrame containing the number of confirmed victims per 100 children, by county and the county’s corresponding median income level. Each county was assigned an income level. \n",
    "\n",
    "I ran applicable statistical tests (Mood’s Median test, Kruskal-Wallis, and Mann Whitney U) to determine if the null hypothesis should be rejected.  "
   ]
  },
  {
   "cell_type": "markdown",
   "metadata": {
    "slideshow": {
     "slide_type": "slide"
    }
   },
   "source": [
    "### The analysis included the following data: \n",
    "\n",
    "- County\n",
    "\n",
    "- Median Income\n",
    "\n",
    "- Median Income Level\n",
    "\n",
    "- Child Population\n",
    "\n",
    "- Total Population\n",
    "\n",
    "- Child Victims\n",
    "\n",
    "- Child Victims per 100 Children\n"
   ]
  },
  {
   "cell_type": "markdown",
   "metadata": {},
   "source": [
    "## Conclusion"
   ]
  },
  {
   "cell_type": "markdown",
   "metadata": {
    "slideshow": {
     "slide_type": "slide"
    }
   },
   "source": [
    "The null hypothesis should be rejected because a significant correlation was found between median income level and child victimization rates. Reasons for this conclusion will be provided below through statistical analysis. "
   ]
  },
  {
   "cell_type": "code",
   "execution_count": 90,
   "metadata": {
    "slideshow": {
     "slide_type": "slide"
    }
   },
   "outputs": [
    {
     "name": "stderr",
     "output_type": "stream",
     "text": [
      "/Applications/anaconda3/lib/python3.7/site-packages/IPython/core/display.py:694: UserWarning: Consider using IPython.display.IFrame instead\n",
      "  warnings.warn(\"Consider using IPython.display.IFrame instead\")\n"
     ]
    },
    {
     "data": {
      "text/html": [
       "<iframe width=\"560\" height=\"315\" src=\"https://www.youtube.com/embed/E_zaoQFWeLs\" frameborder=\"0\" allow=\"accelerometer; autoplay; encrypted-media; gyroscope; picture-in-picture\" allowfullscreen></iframe>"
      ],
      "text/plain": [
       "<IPython.core.display.HTML object>"
      ]
     },
     "execution_count": 90,
     "metadata": {},
     "output_type": "execute_result"
    }
   ],
   "source": [
    "from IPython.display import HTML\n",
    "HTML('<iframe width=\"560\" height=\"315\" src=\"https://www.youtube.com/embed/E_zaoQFWeLs\" frameborder=\"0\" allow=\"accelerometer; autoplay; encrypted-media; gyroscope; picture-in-picture\" allowfullscreen></iframe>')"
   ]
  },
  {
   "cell_type": "markdown",
   "metadata": {
    "slideshow": {
     "slide_type": "slide"
    }
   },
   "source": [
    "## Why does this matter? "
   ]
  },
  {
   "cell_type": "markdown",
   "metadata": {
    "slideshow": {
     "slide_type": "slide"
    }
   },
   "source": [
    "With over 66,000 confirmed child victims per year, that's 180 / day. This is too many to keep the status quo. \n",
    "\n",
    "Children who don't have a voice, need us to fight for them. \n",
    "\n",
    "With smart research and understanding how income impacts child abuse, we can take steps to reduce the number of children that are victimized every year. "
   ]
  },
  {
   "cell_type": "markdown",
   "metadata": {
    "slideshow": {
     "slide_type": "skip"
    }
   },
   "source": [
    "# Imports and Data API"
   ]
  },
  {
   "cell_type": "code",
   "execution_count": 2,
   "metadata": {
    "slideshow": {
     "slide_type": "skip"
    }
   },
   "outputs": [
    {
     "name": "stdout",
     "output_type": "stream",
     "text": [
      "Requirement already satisfied: sodapy in /Applications/anaconda3/lib/python3.7/site-packages (1.5.5)\n",
      "Requirement already satisfied: requests>=2.20.0 in /Applications/anaconda3/lib/python3.7/site-packages (from sodapy) (2.22.0)\n",
      "Requirement already satisfied: future>=0.17.1 in /Applications/anaconda3/lib/python3.7/site-packages (from sodapy) (0.17.1)\n",
      "Requirement already satisfied: urllib3!=1.25.0,!=1.25.1,<1.26,>=1.21.1 in /Applications/anaconda3/lib/python3.7/site-packages (from requests>=2.20.0->sodapy) (1.24.2)\n",
      "Requirement already satisfied: idna<2.9,>=2.5 in /Applications/anaconda3/lib/python3.7/site-packages (from requests>=2.20.0->sodapy) (2.8)\n",
      "Requirement already satisfied: certifi>=2017.4.17 in /Applications/anaconda3/lib/python3.7/site-packages (from requests>=2.20.0->sodapy) (2019.9.11)\n",
      "Requirement already satisfied: chardet<3.1.0,>=3.0.2 in /Applications/anaconda3/lib/python3.7/site-packages (from requests>=2.20.0->sodapy) (3.0.4)\n"
     ]
    },
    {
     "data": {
      "text/html": [
       "<style>.container { width:100% !important; }</style>"
      ],
      "text/plain": [
       "<IPython.core.display.HTML object>"
      ]
     },
     "metadata": {},
     "output_type": "display_data"
    }
   ],
   "source": [
    "! pip install sodapy\n",
    "%matplotlib inline\n",
    "import pandas as pd\n",
    "import numpy as np\n",
    "import seaborn as sns\n",
    "from matplotlib import pyplot as plt\n",
    "from scipy import stats\n",
    "from sodapy import Socrata\n",
    "import requests\n",
    "import config\n",
    "%load_ext autoreload\n",
    "%autoreload 2\n",
    "\n",
    "from IPython.core.display import display, HTML\n",
    "display(HTML(\"<style>.container { width:100% !important; }</style>\"))"
   ]
  },
  {
   "cell_type": "markdown",
   "metadata": {},
   "source": [
    "### Victim Data from DFPS"
   ]
  },
  {
   "cell_type": "code",
   "execution_count": 3,
   "metadata": {
    "slideshow": {
     "slide_type": "skip"
    }
   },
   "outputs": [],
   "source": [
    "client = Socrata(\"data.texas.gov\", config.api_key)\n",
    "investigations = client.get(config.investigations_identifier, limit = 10000)\n",
    "investigations_df1 = pd.DataFrame.from_records(investigations)"
   ]
  },
  {
   "cell_type": "markdown",
   "metadata": {},
   "source": [
    "### Population Data from DPFS"
   ]
  },
  {
   "cell_type": "code",
   "execution_count": 4,
   "metadata": {
    "slideshow": {
     "slide_type": "skip"
    }
   },
   "outputs": [],
   "source": [
    "populations = client.get(config.populations_identifier, limit = 10000)\n",
    "populations_data_frame = pd.DataFrame.from_records(populations)"
   ]
  },
  {
   "cell_type": "markdown",
   "metadata": {},
   "source": [
    "### Income Data by County from US Census Bureau"
   ]
  },
  {
   "cell_type": "code",
   "execution_count": 5,
   "metadata": {
    "slideshow": {
     "slide_type": "skip"
    }
   },
   "outputs": [],
   "source": [
    "income_df = pd.read_excel('https://www2.census.gov/programs-surveys/saipe/datasets/2017/2017-state-and-county/est17all.xls', header=3)\n",
    "texas_income_df1 = income_df.loc[(income_df['Postal Code']=='TX'), ['Name', 'Median Household Income']]"
   ]
  },
  {
   "cell_type": "markdown",
   "metadata": {
    "slideshow": {
     "slide_type": "skip"
    }
   },
   "source": [
    "# Cleaning the Data"
   ]
  },
  {
   "cell_type": "markdown",
   "metadata": {},
   "source": [
    "### Updating year, victims, child_population, total_population, and Median Household Income to be integers instead of objects"
   ]
  },
  {
   "cell_type": "code",
   "execution_count": 6,
   "metadata": {
    "slideshow": {
     "slide_type": "skip"
    }
   },
   "outputs": [],
   "source": [
    "investigations_df = investigations_df1.astype({'fiscal_year': 'int64', 'victims': 'int64'}, copy = False)\n",
    "updated_populations_df = populations_data_frame.astype({'child_population' : 'float64', 'total_population': 'int64', 'year': 'int64'}, copy = False, )\n",
    "texas_income_df = texas_income_df1.astype({'Median Household Income': 'int64'}, copy = False)"
   ]
  },
  {
   "cell_type": "markdown",
   "metadata": {},
   "source": [
    "### Recognizing that there are counties that are not listed here because they had zero confirmed victims"
   ]
  },
  {
   "cell_type": "code",
   "execution_count": 7,
   "metadata": {},
   "outputs": [
    {
     "data": {
      "text/plain": [
       "confirmed_victims    246\n",
       "county               246\n",
       "fiscal_year          246\n",
       "region               246\n",
       "victims              246\n",
       "dtype: int64"
      ]
     },
     "execution_count": 7,
     "metadata": {},
     "output_type": "execute_result"
    }
   ],
   "source": [
    "investigations_df.loc[(investigations_df['fiscal_year'] == 2017) & (investigations_df['confirmed_victims']== 'Confirmed Victim')].count()"
   ]
  },
  {
   "cell_type": "markdown",
   "metadata": {},
   "source": [
    "### Separating Out Confirmed Victims"
   ]
  },
  {
   "cell_type": "code",
   "execution_count": 8,
   "metadata": {
    "slideshow": {
     "slide_type": "skip"
    }
   },
   "outputs": [],
   "source": [
    "confirmed_df = investigations_df.loc[investigations_df['confirmed_victims'] == 'Confirmed Victim']"
   ]
  },
  {
   "cell_type": "markdown",
   "metadata": {},
   "source": [
    "### Taking 2017 Data Only and taking out \"All counties\" from population data and \"Out of State\" from confirmed victim data"
   ]
  },
  {
   "cell_type": "code",
   "execution_count": 9,
   "metadata": {
    "slideshow": {
     "slide_type": "skip"
    }
   },
   "outputs": [],
   "source": [
    "populations_2017 = updated_populations_df.loc[(updated_populations_df['year']==2017) & (updated_populations_df['county'] != 'All Counties')]\n",
    "confirmed_2017 = confirmed_df.loc[(confirmed_df['fiscal_year']==2017) & (confirmed_df['county'] != 'Out of State')]"
   ]
  },
  {
   "cell_type": "markdown",
   "metadata": {},
   "source": [
    "### Getting a count of how many unique counties there are in the confirmed and populations data frames"
   ]
  },
  {
   "cell_type": "code",
   "execution_count": 10,
   "metadata": {},
   "outputs": [
    {
     "data": {
      "text/plain": [
       "245"
      ]
     },
     "execution_count": 10,
     "metadata": {},
     "output_type": "execute_result"
    }
   ],
   "source": [
    "confirmed_2017['county'].sort_values().nunique()"
   ]
  },
  {
   "cell_type": "code",
   "execution_count": 11,
   "metadata": {},
   "outputs": [
    {
     "data": {
      "text/plain": [
       "254"
      ]
     },
     "execution_count": 11,
     "metadata": {},
     "output_type": "execute_result"
    }
   ],
   "source": [
    "populations_2017['county'].nunique()"
   ]
  },
  {
   "cell_type": "markdown",
   "metadata": {
    "slideshow": {
     "slide_type": "skip"
    }
   },
   "source": [
    "# Combining Data into Single Data Frame"
   ]
  },
  {
   "cell_type": "markdown",
   "metadata": {},
   "source": [
    "### Updated a misspelling of McLennan County (McLennon to McLennan) and La Salle (LaSalle to La Salle)"
   ]
  },
  {
   "cell_type": "code",
   "execution_count": 12,
   "metadata": {},
   "outputs": [
    {
     "name": "stderr",
     "output_type": "stream",
     "text": [
      "/Applications/anaconda3/lib/python3.7/site-packages/pandas/core/indexing.py:543: SettingWithCopyWarning: \n",
      "A value is trying to be set on a copy of a slice from a DataFrame.\n",
      "Try using .loc[row_indexer,col_indexer] = value instead\n",
      "\n",
      "See the caveats in the documentation: http://pandas.pydata.org/pandas-docs/stable/indexing.html#indexing-view-versus-copy\n",
      "  self.obj[item] = s\n"
     ]
    }
   ],
   "source": [
    "populations_2017.iloc[160,1] = 'McLennan'\n",
    "populations_2017.iloc[138,1] = 'La Salle'"
   ]
  },
  {
   "cell_type": "markdown",
   "metadata": {},
   "source": [
    "### Combining Confirmed Victim Data and Population Data for 2017\n"
   ]
  },
  {
   "cell_type": "code",
   "execution_count": 13,
   "metadata": {
    "slideshow": {
     "slide_type": "skip"
    }
   },
   "outputs": [],
   "source": [
    "combined_df = pd.merge(confirmed_2017, populations_2017, on = 'county', how = 'outer')"
   ]
  },
  {
   "cell_type": "markdown",
   "metadata": {},
   "source": [
    "### Some counties were not on the investigations df because they did not have any confirmed vicitims. Here I fill these in with zeros. \n"
   ]
  },
  {
   "cell_type": "code",
   "execution_count": 14,
   "metadata": {},
   "outputs": [],
   "source": [
    "values = {'confirmed_victims': 'Confirmed Victim', 'fiscal_year': 2017, 'victims': 0}\n",
    "combined_df = combined_df.fillna(value=values)"
   ]
  },
  {
   "cell_type": "code",
   "execution_count": 15,
   "metadata": {},
   "outputs": [
    {
     "data": {
      "text/html": [
       "<div>\n",
       "<style scoped>\n",
       "    .dataframe tbody tr th:only-of-type {\n",
       "        vertical-align: middle;\n",
       "    }\n",
       "\n",
       "    .dataframe tbody tr th {\n",
       "        vertical-align: top;\n",
       "    }\n",
       "\n",
       "    .dataframe thead th {\n",
       "        text-align: right;\n",
       "    }\n",
       "</style>\n",
       "<table border=\"1\" class=\"dataframe\">\n",
       "  <thead>\n",
       "    <tr style=\"text-align: right;\">\n",
       "      <th></th>\n",
       "      <th>confirmed_victims</th>\n",
       "      <th>county</th>\n",
       "      <th>fiscal_year</th>\n",
       "      <th>region_x</th>\n",
       "      <th>victims</th>\n",
       "      <th>child_population</th>\n",
       "      <th>of_children_in_total_population</th>\n",
       "      <th>region_y</th>\n",
       "      <th>total_population</th>\n",
       "      <th>year</th>\n",
       "    </tr>\n",
       "  </thead>\n",
       "  <tbody>\n",
       "    <tr>\n",
       "      <th>0</th>\n",
       "      <td>Confirmed Victim</td>\n",
       "      <td>Bailey</td>\n",
       "      <td>2017.0</td>\n",
       "      <td>1-Lubbock</td>\n",
       "      <td>12.0</td>\n",
       "      <td>2463.0</td>\n",
       "      <td>30.6800</td>\n",
       "      <td>1-Lubbock</td>\n",
       "      <td>8029</td>\n",
       "      <td>2017</td>\n",
       "    </tr>\n",
       "    <tr>\n",
       "      <th>1</th>\n",
       "      <td>Confirmed Victim</td>\n",
       "      <td>Briscoe</td>\n",
       "      <td>2017.0</td>\n",
       "      <td>1-Lubbock</td>\n",
       "      <td>2.0</td>\n",
       "      <td>351.0</td>\n",
       "      <td>20.9100</td>\n",
       "      <td>1-Lubbock</td>\n",
       "      <td>1679</td>\n",
       "      <td>2017</td>\n",
       "    </tr>\n",
       "    <tr>\n",
       "      <th>2</th>\n",
       "      <td>Confirmed Victim</td>\n",
       "      <td>Carson</td>\n",
       "      <td>2017.0</td>\n",
       "      <td>1-Lubbock</td>\n",
       "      <td>23.0</td>\n",
       "      <td>1492.0</td>\n",
       "      <td>23.2500</td>\n",
       "      <td>1-Lubbock</td>\n",
       "      <td>6418</td>\n",
       "      <td>2017</td>\n",
       "    </tr>\n",
       "    <tr>\n",
       "      <th>3</th>\n",
       "      <td>Confirmed Victim</td>\n",
       "      <td>Castro</td>\n",
       "      <td>2017.0</td>\n",
       "      <td>1-Lubbock</td>\n",
       "      <td>12.0</td>\n",
       "      <td>2481.0</td>\n",
       "      <td>28.6400</td>\n",
       "      <td>1-Lubbock</td>\n",
       "      <td>8662</td>\n",
       "      <td>2017</td>\n",
       "    </tr>\n",
       "    <tr>\n",
       "      <th>4</th>\n",
       "      <td>Confirmed Victim</td>\n",
       "      <td>Childress</td>\n",
       "      <td>2017.0</td>\n",
       "      <td>1-Lubbock</td>\n",
       "      <td>25.0</td>\n",
       "      <td>1522.0</td>\n",
       "      <td>20.7300</td>\n",
       "      <td>1-Lubbock</td>\n",
       "      <td>7341</td>\n",
       "      <td>2017</td>\n",
       "    </tr>\n",
       "    <tr>\n",
       "      <th>5</th>\n",
       "      <td>Confirmed Victim</td>\n",
       "      <td>Cochran</td>\n",
       "      <td>2017.0</td>\n",
       "      <td>1-Lubbock</td>\n",
       "      <td>10.0</td>\n",
       "      <td>886.0</td>\n",
       "      <td>26.2600</td>\n",
       "      <td>1-Lubbock</td>\n",
       "      <td>3374</td>\n",
       "      <td>2017</td>\n",
       "    </tr>\n",
       "    <tr>\n",
       "      <th>6</th>\n",
       "      <td>Confirmed Victim</td>\n",
       "      <td>Collingsworth</td>\n",
       "      <td>2017.0</td>\n",
       "      <td>1-Lubbock</td>\n",
       "      <td>6.0</td>\n",
       "      <td>839.0</td>\n",
       "      <td>26.3600</td>\n",
       "      <td>1-Lubbock</td>\n",
       "      <td>3183</td>\n",
       "      <td>2017</td>\n",
       "    </tr>\n",
       "    <tr>\n",
       "      <th>7</th>\n",
       "      <td>Confirmed Victim</td>\n",
       "      <td>Crosby</td>\n",
       "      <td>2017.0</td>\n",
       "      <td>1-Lubbock</td>\n",
       "      <td>22.0</td>\n",
       "      <td>1845.0</td>\n",
       "      <td>26.900</td>\n",
       "      <td>1-Lubbock</td>\n",
       "      <td>6860</td>\n",
       "      <td>2017</td>\n",
       "    </tr>\n",
       "    <tr>\n",
       "      <th>8</th>\n",
       "      <td>Confirmed Victim</td>\n",
       "      <td>Dallam</td>\n",
       "      <td>2017.0</td>\n",
       "      <td>1-Lubbock</td>\n",
       "      <td>16.0</td>\n",
       "      <td>2262.0</td>\n",
       "      <td>29.5300</td>\n",
       "      <td>1-Lubbock</td>\n",
       "      <td>7660</td>\n",
       "      <td>2017</td>\n",
       "    </tr>\n",
       "    <tr>\n",
       "      <th>9</th>\n",
       "      <td>Confirmed Victim</td>\n",
       "      <td>Deaf Smith</td>\n",
       "      <td>2017.0</td>\n",
       "      <td>1-Lubbock</td>\n",
       "      <td>50.0</td>\n",
       "      <td>6761.0</td>\n",
       "      <td>31.2700</td>\n",
       "      <td>1-Lubbock</td>\n",
       "      <td>21621</td>\n",
       "      <td>2017</td>\n",
       "    </tr>\n",
       "  </tbody>\n",
       "</table>\n",
       "</div>"
      ],
      "text/plain": [
       "  confirmed_victims         county  fiscal_year   region_x  victims  \\\n",
       "0  Confirmed Victim         Bailey       2017.0  1-Lubbock     12.0   \n",
       "1  Confirmed Victim        Briscoe       2017.0  1-Lubbock      2.0   \n",
       "2  Confirmed Victim         Carson       2017.0  1-Lubbock     23.0   \n",
       "3  Confirmed Victim         Castro       2017.0  1-Lubbock     12.0   \n",
       "4  Confirmed Victim      Childress       2017.0  1-Lubbock     25.0   \n",
       "5  Confirmed Victim        Cochran       2017.0  1-Lubbock     10.0   \n",
       "6  Confirmed Victim  Collingsworth       2017.0  1-Lubbock      6.0   \n",
       "7  Confirmed Victim         Crosby       2017.0  1-Lubbock     22.0   \n",
       "8  Confirmed Victim         Dallam       2017.0  1-Lubbock     16.0   \n",
       "9  Confirmed Victim     Deaf Smith       2017.0  1-Lubbock     50.0   \n",
       "\n",
       "   child_population of_children_in_total_population   region_y  \\\n",
       "0            2463.0                         30.6800  1-Lubbock   \n",
       "1             351.0                         20.9100  1-Lubbock   \n",
       "2            1492.0                         23.2500  1-Lubbock   \n",
       "3            2481.0                         28.6400  1-Lubbock   \n",
       "4            1522.0                         20.7300  1-Lubbock   \n",
       "5             886.0                         26.2600  1-Lubbock   \n",
       "6             839.0                         26.3600  1-Lubbock   \n",
       "7            1845.0                          26.900  1-Lubbock   \n",
       "8            2262.0                         29.5300  1-Lubbock   \n",
       "9            6761.0                         31.2700  1-Lubbock   \n",
       "\n",
       "   total_population  year  \n",
       "0              8029  2017  \n",
       "1              1679  2017  \n",
       "2              6418  2017  \n",
       "3              8662  2017  \n",
       "4              7341  2017  \n",
       "5              3374  2017  \n",
       "6              3183  2017  \n",
       "7              6860  2017  \n",
       "8              7660  2017  \n",
       "9             21621  2017  "
      ]
     },
     "execution_count": 15,
     "metadata": {},
     "output_type": "execute_result"
    }
   ],
   "source": [
    "combined_df.head(10)"
   ]
  },
  {
   "cell_type": "markdown",
   "metadata": {},
   "source": [
    "### Take out the word 'county' from the name so it can be joined with the other dataframes. "
   ]
  },
  {
   "cell_type": "code",
   "execution_count": 105,
   "metadata": {},
   "outputs": [],
   "source": [
    "texas_income_df['Name'] = texas_income_df['Name'].str.replace(' County', '', regex=True)"
   ]
  },
  {
   "cell_type": "markdown",
   "metadata": {},
   "source": [
    "### Rename \"Name\" with 'county'"
   ]
  },
  {
   "cell_type": "code",
   "execution_count": 106,
   "metadata": {},
   "outputs": [],
   "source": [
    "texas_income_df.rename(columns = {'Name': 'county'}, inplace = True)"
   ]
  },
  {
   "cell_type": "markdown",
   "metadata": {},
   "source": [
    "### Combining all Income Data to show Median Income for 2017"
   ]
  },
  {
   "cell_type": "code",
   "execution_count": 107,
   "metadata": {
    "slideshow": {
     "slide_type": "skip"
    }
   },
   "outputs": [],
   "source": [
    "combined_df_1 = pd.merge(combined_df, texas_income_df, on = 'county', how = 'inner')"
   ]
  },
  {
   "cell_type": "code",
   "execution_count": 108,
   "metadata": {},
   "outputs": [
    {
     "name": "stdout",
     "output_type": "stream",
     "text": [
      "<class 'pandas.core.frame.DataFrame'>\n",
      "Int64Index: 254 entries, 0 to 253\n",
      "Data columns (total 11 columns):\n",
      "confirmed_victims                  254 non-null object\n",
      "county                             254 non-null object\n",
      "fiscal_year                        254 non-null float64\n",
      "region_x                           245 non-null object\n",
      "victims                            254 non-null float64\n",
      "child_population                   254 non-null float64\n",
      "of_children_in_total_population    254 non-null object\n",
      "region_y                           254 non-null object\n",
      "total_population                   254 non-null int64\n",
      "year                               254 non-null int64\n",
      "Median Household Income            254 non-null int64\n",
      "dtypes: float64(3), int64(3), object(5)\n",
      "memory usage: 23.8+ KB\n"
     ]
    }
   ],
   "source": [
    "combined_df_1.info()"
   ]
  },
  {
   "cell_type": "markdown",
   "metadata": {},
   "source": [
    "### Further cleaning data to keep only needed columns and adding victims_per_100_children column"
   ]
  },
  {
   "cell_type": "code",
   "execution_count": 109,
   "metadata": {
    "slideshow": {
     "slide_type": "skip"
    }
   },
   "outputs": [
    {
     "data": {
      "text/html": [
       "<div>\n",
       "<style scoped>\n",
       "    .dataframe tbody tr th:only-of-type {\n",
       "        vertical-align: middle;\n",
       "    }\n",
       "\n",
       "    .dataframe tbody tr th {\n",
       "        vertical-align: top;\n",
       "    }\n",
       "\n",
       "    .dataframe thead th {\n",
       "        text-align: right;\n",
       "    }\n",
       "</style>\n",
       "<table border=\"1\" class=\"dataframe\">\n",
       "  <thead>\n",
       "    <tr style=\"text-align: right;\">\n",
       "      <th></th>\n",
       "      <th>confirmed_victims</th>\n",
       "      <th>county</th>\n",
       "      <th>victims</th>\n",
       "      <th>child_population</th>\n",
       "      <th>region_y</th>\n",
       "      <th>total_population</th>\n",
       "      <th>Median Household Income</th>\n",
       "    </tr>\n",
       "  </thead>\n",
       "  <tbody>\n",
       "    <tr>\n",
       "      <th>0</th>\n",
       "      <td>Confirmed Victim</td>\n",
       "      <td>Bailey</td>\n",
       "      <td>12.0</td>\n",
       "      <td>2463.0</td>\n",
       "      <td>1-Lubbock</td>\n",
       "      <td>8029</td>\n",
       "      <td>42045</td>\n",
       "    </tr>\n",
       "    <tr>\n",
       "      <th>1</th>\n",
       "      <td>Confirmed Victim</td>\n",
       "      <td>Briscoe</td>\n",
       "      <td>2.0</td>\n",
       "      <td>351.0</td>\n",
       "      <td>1-Lubbock</td>\n",
       "      <td>1679</td>\n",
       "      <td>42678</td>\n",
       "    </tr>\n",
       "    <tr>\n",
       "      <th>2</th>\n",
       "      <td>Confirmed Victim</td>\n",
       "      <td>Carson</td>\n",
       "      <td>23.0</td>\n",
       "      <td>1492.0</td>\n",
       "      <td>1-Lubbock</td>\n",
       "      <td>6418</td>\n",
       "      <td>60668</td>\n",
       "    </tr>\n",
       "    <tr>\n",
       "      <th>3</th>\n",
       "      <td>Confirmed Victim</td>\n",
       "      <td>Castro</td>\n",
       "      <td>12.0</td>\n",
       "      <td>2481.0</td>\n",
       "      <td>1-Lubbock</td>\n",
       "      <td>8662</td>\n",
       "      <td>41746</td>\n",
       "    </tr>\n",
       "    <tr>\n",
       "      <th>4</th>\n",
       "      <td>Confirmed Victim</td>\n",
       "      <td>Childress</td>\n",
       "      <td>25.0</td>\n",
       "      <td>1522.0</td>\n",
       "      <td>1-Lubbock</td>\n",
       "      <td>7341</td>\n",
       "      <td>40925</td>\n",
       "    </tr>\n",
       "  </tbody>\n",
       "</table>\n",
       "</div>"
      ],
      "text/plain": [
       "  confirmed_victims     county  victims  child_population   region_y  \\\n",
       "0  Confirmed Victim     Bailey     12.0            2463.0  1-Lubbock   \n",
       "1  Confirmed Victim    Briscoe      2.0             351.0  1-Lubbock   \n",
       "2  Confirmed Victim     Carson     23.0            1492.0  1-Lubbock   \n",
       "3  Confirmed Victim     Castro     12.0            2481.0  1-Lubbock   \n",
       "4  Confirmed Victim  Childress     25.0            1522.0  1-Lubbock   \n",
       "\n",
       "   total_population  Median Household Income  \n",
       "0              8029                    42045  \n",
       "1              1679                    42678  \n",
       "2              6418                    60668  \n",
       "3              8662                    41746  \n",
       "4              7341                    40925  "
      ]
     },
     "execution_count": 109,
     "metadata": {},
     "output_type": "execute_result"
    }
   ],
   "source": [
    "clean_2017_df = combined_df_1.iloc[:, [0, 1, 4, 5, 7, 8, 10]]\n",
    "\n",
    "clean_2017_df.head()"
   ]
  },
  {
   "cell_type": "code",
   "execution_count": 110,
   "metadata": {
    "slideshow": {
     "slide_type": "skip"
    }
   },
   "outputs": [
    {
     "name": "stderr",
     "output_type": "stream",
     "text": [
      "/Applications/anaconda3/lib/python3.7/site-packages/ipykernel_launcher.py:2: SettingWithCopyWarning: \n",
      "A value is trying to be set on a copy of a slice from a DataFrame.\n",
      "Try using .loc[row_indexer,col_indexer] = value instead\n",
      "\n",
      "See the caveats in the documentation: http://pandas.pydata.org/pandas-docs/stable/indexing.html#indexing-view-versus-copy\n",
      "  \n"
     ]
    }
   ],
   "source": [
    "clean_2017_df['victims_per_100_children']= clean_2017_df['victims'] / clean_2017_df['child_population'] * 100"
   ]
  },
  {
   "cell_type": "markdown",
   "metadata": {},
   "source": [
    "### Understanding median income and defining it with three levels"
   ]
  },
  {
   "cell_type": "code",
   "execution_count": 111,
   "metadata": {
    "raw_mimetype": "text/x-python",
    "slideshow": {
     "slide_type": "skip"
    }
   },
   "outputs": [],
   "source": [
    "median_income = pd.read_excel('https://www2.census.gov/programs-surveys/cps/tables/time-series/historical-income-households/h08.xls', header = 4)\n",
    "texas_median_income = median_income.loc[median_income['State']=='Texas']"
   ]
  },
  {
   "cell_type": "code",
   "execution_count": 112,
   "metadata": {
    "slideshow": {
     "slide_type": "skip"
    }
   },
   "outputs": [
    {
     "name": "stderr",
     "output_type": "stream",
     "text": [
      "/Applications/anaconda3/lib/python3.7/site-packages/ipykernel_launcher.py:7: SettingWithCopyWarning: \n",
      "A value is trying to be set on a copy of a slice from a DataFrame.\n",
      "Try using .loc[row_indexer,col_indexer] = value instead\n",
      "\n",
      "See the caveats in the documentation: http://pandas.pydata.org/pandas-docs/stable/indexing.html#indexing-view-versus-copy\n",
      "  import sys\n"
     ]
    }
   ],
   "source": [
    "conditions = [(clean_2017_df['Median Household Income'] > 70000),\n",
    "              (clean_2017_df['Median Household Income'] > 50000),\n",
    "              (clean_2017_df['Median Household Income'] <= 50000)]\n",
    "choices = ['high', 'median', 'low']\n",
    "                                                    \n",
    "clean_2017_df['Median Household Income Level'] = np.select(conditions, choices, default = 'null')                                                    "
   ]
  },
  {
   "cell_type": "code",
   "execution_count": 113,
   "metadata": {
    "slideshow": {
     "slide_type": "slide"
    }
   },
   "outputs": [
    {
     "data": {
      "text/html": [
       "<div>\n",
       "<style scoped>\n",
       "    .dataframe tbody tr th:only-of-type {\n",
       "        vertical-align: middle;\n",
       "    }\n",
       "\n",
       "    .dataframe tbody tr th {\n",
       "        vertical-align: top;\n",
       "    }\n",
       "\n",
       "    .dataframe thead th {\n",
       "        text-align: right;\n",
       "    }\n",
       "</style>\n",
       "<table border=\"1\" class=\"dataframe\">\n",
       "  <thead>\n",
       "    <tr style=\"text-align: right;\">\n",
       "      <th></th>\n",
       "      <th>confirmed_victims</th>\n",
       "      <th>county</th>\n",
       "      <th>victims</th>\n",
       "      <th>child_population</th>\n",
       "      <th>region_y</th>\n",
       "      <th>total_population</th>\n",
       "      <th>Median Household Income</th>\n",
       "      <th>victims_per_100_children</th>\n",
       "      <th>Median Household Income Level</th>\n",
       "    </tr>\n",
       "  </thead>\n",
       "  <tbody>\n",
       "    <tr>\n",
       "      <th>0</th>\n",
       "      <td>Confirmed Victim</td>\n",
       "      <td>Bailey</td>\n",
       "      <td>12.0</td>\n",
       "      <td>2463.0</td>\n",
       "      <td>1-Lubbock</td>\n",
       "      <td>8029</td>\n",
       "      <td>42045</td>\n",
       "      <td>0.487211</td>\n",
       "      <td>low</td>\n",
       "    </tr>\n",
       "    <tr>\n",
       "      <th>1</th>\n",
       "      <td>Confirmed Victim</td>\n",
       "      <td>Briscoe</td>\n",
       "      <td>2.0</td>\n",
       "      <td>351.0</td>\n",
       "      <td>1-Lubbock</td>\n",
       "      <td>1679</td>\n",
       "      <td>42678</td>\n",
       "      <td>0.569801</td>\n",
       "      <td>low</td>\n",
       "    </tr>\n",
       "    <tr>\n",
       "      <th>2</th>\n",
       "      <td>Confirmed Victim</td>\n",
       "      <td>Carson</td>\n",
       "      <td>23.0</td>\n",
       "      <td>1492.0</td>\n",
       "      <td>1-Lubbock</td>\n",
       "      <td>6418</td>\n",
       "      <td>60668</td>\n",
       "      <td>1.541555</td>\n",
       "      <td>median</td>\n",
       "    </tr>\n",
       "    <tr>\n",
       "      <th>3</th>\n",
       "      <td>Confirmed Victim</td>\n",
       "      <td>Castro</td>\n",
       "      <td>12.0</td>\n",
       "      <td>2481.0</td>\n",
       "      <td>1-Lubbock</td>\n",
       "      <td>8662</td>\n",
       "      <td>41746</td>\n",
       "      <td>0.483676</td>\n",
       "      <td>low</td>\n",
       "    </tr>\n",
       "    <tr>\n",
       "      <th>4</th>\n",
       "      <td>Confirmed Victim</td>\n",
       "      <td>Childress</td>\n",
       "      <td>25.0</td>\n",
       "      <td>1522.0</td>\n",
       "      <td>1-Lubbock</td>\n",
       "      <td>7341</td>\n",
       "      <td>40925</td>\n",
       "      <td>1.642576</td>\n",
       "      <td>low</td>\n",
       "    </tr>\n",
       "  </tbody>\n",
       "</table>\n",
       "</div>"
      ],
      "text/plain": [
       "  confirmed_victims     county  victims  child_population   region_y  \\\n",
       "0  Confirmed Victim     Bailey     12.0            2463.0  1-Lubbock   \n",
       "1  Confirmed Victim    Briscoe      2.0             351.0  1-Lubbock   \n",
       "2  Confirmed Victim     Carson     23.0            1492.0  1-Lubbock   \n",
       "3  Confirmed Victim     Castro     12.0            2481.0  1-Lubbock   \n",
       "4  Confirmed Victim  Childress     25.0            1522.0  1-Lubbock   \n",
       "\n",
       "   total_population  Median Household Income  victims_per_100_children  \\\n",
       "0              8029                    42045                  0.487211   \n",
       "1              1679                    42678                  0.569801   \n",
       "2              6418                    60668                  1.541555   \n",
       "3              8662                    41746                  0.483676   \n",
       "4              7341                    40925                  1.642576   \n",
       "\n",
       "  Median Household Income Level  \n",
       "0                           low  \n",
       "1                           low  \n",
       "2                        median  \n",
       "3                           low  \n",
       "4                           low  "
      ]
     },
     "execution_count": 113,
     "metadata": {},
     "output_type": "execute_result"
    }
   ],
   "source": [
    "#Glance at the final data set\n",
    "clean_2017_df.head(5)"
   ]
  },
  {
   "cell_type": "markdown",
   "metadata": {
    "slideshow": {
     "slide_type": "slide"
    }
   },
   "source": [
    "## Understanding the Data Visually"
   ]
  },
  {
   "cell_type": "code",
   "execution_count": 114,
   "metadata": {
    "slideshow": {
     "slide_type": "skip"
    }
   },
   "outputs": [],
   "source": [
    "#Separating into three distinct data frames based on income level\n",
    "high_income = clean_2017_df.loc[clean_2017_df['Median Household Income Level']== 'high']\n",
    "median_income = clean_2017_df.loc[clean_2017_df['Median Household Income Level']=='median']\n",
    "low_income = clean_2017_df.loc[clean_2017_df['Median Household Income Level']=='low']"
   ]
  },
  {
   "cell_type": "code",
   "execution_count": 115,
   "metadata": {
    "slideshow": {
     "slide_type": "slide"
    }
   },
   "outputs": [
    {
     "data": {
      "image/png": "[encoded data removed]",
      "text/plain": [
       "<Figure size 360x360 with 1 Axes>"
      ]
     },
     "metadata": {
      "needs_background": "light"
     },
     "output_type": "display_data"
    }
   ],
   "source": [
    "#Compare where the density is on each income level\n",
    "catplot = sns.catplot(x = 'Median Household Income Level', y = 'victims_per_100_children', data = clean_2017_df, kind = 'swarm')\n",
    "plt.title('Victims per 100 Children by Income Level')\n",
    "catplot.set_axis_labels(\"Median Income Level\", \"Victims per 100 Children\");"
   ]
  },
  {
   "cell_type": "code",
   "execution_count": 116,
   "metadata": {},
   "outputs": [
    {
     "data": {
      "image/png": "[encoded data removed]",
      "text/plain": [
       "<Figure size 517.175x360 with 1 Axes>"
      ]
     },
     "metadata": {
      "needs_background": "light"
     },
     "output_type": "display_data"
    }
   ],
   "source": [
    "#See Comparison with Implot\n",
    "graph = sns.lmplot(x='Median Household Income', y='victims_per_100_children', hue='Median Household Income Level',\n",
    "               truncate=True, height=5, data=clean_2017_df)\n",
    "\n",
    "plt.title('Victims per 100 Children by Income Level')\n",
    "graph.set_axis_labels(\"Median Income\", \"Victims per 100 Children\");"
   ]
  },
  {
   "cell_type": "code",
   "execution_count": 117,
   "metadata": {
    "slideshow": {
     "slide_type": "slide"
    }
   },
   "outputs": [
    {
     "data": {
      "image/png": "[encoded data removed]",
      "text/plain": [
       "<Figure size 360x360 with 1 Axes>"
      ]
     },
     "metadata": {
      "needs_background": "light"
     },
     "output_type": "display_data"
    }
   ],
   "source": [
    "#See this with a box plot\n",
    "boxplot = sns.catplot(x = 'Median Household Income Level', y = 'victims_per_100_children', data = clean_2017_df, kind = 'box')\n",
    "plt.title('Victims per 100 Children by Income Level')\n",
    "boxplot.set_axis_labels(\"Median Income\", \"Victims per 100 Children\");"
   ]
  },
  {
   "cell_type": "markdown",
   "metadata": {
    "slideshow": {
     "slide_type": "skip"
    }
   },
   "source": [
    "# Testing for Normality"
   ]
  },
  {
   "cell_type": "code",
   "execution_count": 118,
   "metadata": {
    "slideshow": {
     "slide_type": "slide"
    }
   },
   "outputs": [
    {
     "name": "stdout",
     "output_type": "stream",
     "text": [
      "DescribeResult(nobs=16, minmax=(0.3497532270311314, 1.5807392996108949), mean=0.6784905768307274, variance=0.12257643103455808, skewness=1.407525086989503, kurtosis=1.094669120680412)\n",
      "DescribeResult(nobs=79, minmax=(0.0, 4.672897196261682), mean=1.0733820473120834, variance=0.5145473900162764, skewness=1.7879122380882924, kurtosis=6.672581607965144)\n",
      "DescribeResult(nobs=159, minmax=(0.0, 3.5069623517276947), mean=1.232750326237097, variance=0.43020210533007125, skewness=0.6124192423332706, kurtosis=0.7029282949772253)\n"
     ]
    }
   ],
   "source": [
    "print(stats.describe(high_income['victims_per_100_children']))\n",
    "print(stats.describe(median_income['victims_per_100_children']))\n",
    "print(stats.describe(low_income['victims_per_100_children']))"
   ]
  },
  {
   "cell_type": "code",
   "execution_count": 119,
   "metadata": {
    "slideshow": {
     "slide_type": "slide"
    }
   },
   "outputs": [
    {
     "name": "stdout",
     "output_type": "stream",
     "text": [
      "(0.8255553245544434, 0.006074231583625078)\n",
      "(0.8789090514183044, 1.9737217371584848e-06)\n",
      "(0.973885715007782, 0.0041335392743349075)\n"
     ]
    }
   ],
   "source": [
    "print(stats.shapiro(high_income['victims_per_100_children']))\n",
    "print(stats.shapiro(median_income['victims_per_100_children']))\n",
    "print(stats.shapiro(low_income['victims_per_100_children']))"
   ]
  },
  {
   "cell_type": "markdown",
   "metadata": {},
   "source": [
    "------------"
   ]
  },
  {
   "cell_type": "markdown",
   "metadata": {},
   "source": [
    "## Method for Analysis\n",
    "Due to high kurtosis in the Median Income Level, these are not considered normal distributions. I will use Mood's Median test, Kruskal-Wallis, and Mann Whitney U to accept or reject the null hypothesis. \n",
    "\n",
    "## Cut off to Reject the Null Hypothesis \n",
    "I am using a 95% confidence interval. A p-value below .05 indicates that the populations are significantly different and that the null hypothesis can be rejected. If a p value is above .05, the null hypothesis will be accepted. "
   ]
  },
  {
   "cell_type": "markdown",
   "metadata": {},
   "source": [
    "## Mood's Median Test\n",
    "Mood's Median Test is used when we have visible outliers for non-normal, independent groups. Since we have some visible outliers, Mood's will be used as part of our analysis. Since Mood's is less robust than other statisitcal analysis methods, we will also review Kruskal-Wallis and Mann Whitney U. \n",
    "A P value below .05 indicates that we can reject the null hypothesis. \n",
    "\n",
    "The first row of the table shows us the values above the grand median, the second row shows us the values below the grand median. So high income, median income, low income, have 2, 34, and 91 counties above the grand median, respectively. The high income, median income, and low income also have 14, 45, and 68 counties below the grand median. \n",
    "\n",
    "However, we can't compare this horizontally because the groups have different sample sizes. We need to compare each group and how much is above, and how much is below."
   ]
  },
  {
   "cell_type": "code",
   "execution_count": 120,
   "metadata": {
    "slideshow": {
     "slide_type": "slide"
    }
   },
   "outputs": [
    {
     "name": "stdout",
     "output_type": "stream",
     "text": [
      "Test Statistic: 13.858689594777484\n",
      "P-Value: 0.0009786418670872559\n",
      "Median: 1.0899548674845825\n",
      "Table: [[ 2 34 91]\n",
      " [14 45 68]]\n"
     ]
    }
   ],
   "source": [
    "stat, p_value, median, table = stats.median_test(high_income['victims_per_100_children'], median_income['victims_per_100_children'], low_income['victims_per_100_children'])\n",
    "print('Test Statistic: {}'.format(stat))\n",
    "print('P-Value: {}'.format(p_value))\n",
    "print('Median: {}'.format(median))\n",
    "print('Table: {}'.format(table))"
   ]
  },
  {
   "cell_type": "markdown",
   "metadata": {},
   "source": [
    "The p value of .00098 indicates that we can reject the null hypothesis. The low p value suggests that there is a significant difference between the three groups. However, it does not indicate which group(s) the significant difference comes from. We will continue on with statistical analysis to uncover the differences in the three groups."
   ]
  },
  {
   "cell_type": "markdown",
   "metadata": {},
   "source": [
    "## Kruskal-Wallis Test"
   ]
  },
  {
   "cell_type": "markdown",
   "metadata": {},
   "source": [
    "A p value below .05 indicates that we can reject the null hypothesis. "
   ]
  },
  {
   "cell_type": "code",
   "execution_count": 121,
   "metadata": {
    "slideshow": {
     "slide_type": "slide"
    }
   },
   "outputs": [
    {
     "data": {
      "text/plain": [
       "KruskalResult(statistic=16.65869810603693, pvalue=0.0002413290862004451)"
      ]
     },
     "execution_count": 121,
     "metadata": {},
     "output_type": "execute_result"
    }
   ],
   "source": [
    "stats.kruskal(high_income['victims_per_100_children'], median_income['victims_per_100_children'], low_income['victims_per_100_children'])\n"
   ]
  },
  {
   "cell_type": "markdown",
   "metadata": {},
   "source": [
    "The low p value suggests that there is a significant difference between the three groups. However, it does not indicate which group(s) the significant difference comes from. "
   ]
  },
  {
   "cell_type": "markdown",
   "metadata": {},
   "source": [
    "## Mann Whitney U Test"
   ]
  },
  {
   "cell_type": "markdown",
   "metadata": {},
   "source": [
    "A p value below .05 indicates that we can reject the null hypothesis."
   ]
  },
  {
   "cell_type": "code",
   "execution_count": 122,
   "metadata": {
    "slideshow": {
     "slide_type": "slide"
    }
   },
   "outputs": [
    {
     "name": "stdout",
     "output_type": "stream",
     "text": [
      "MannwhitneyuResult(statistic=368.0, pvalue=0.004389399948901571)\n",
      "MannwhitneyuResult(statistic=549.0, pvalue=9.187020757054337e-05)\n",
      "MannwhitneyuResult(statistic=5197.0, pvalue=0.015182064758560054)\n"
     ]
    }
   ],
   "source": [
    "print(stats.mannwhitneyu(high_income['victims_per_100_children'], median_income['victims_per_100_children']))\n",
    "print(stats.mannwhitneyu(high_income['victims_per_100_children'], low_income['victims_per_100_children']))\n",
    "print(stats.mannwhitneyu(median_income['victims_per_100_children'], low_income['victims_per_100_children']))"
   ]
  },
  {
   "cell_type": "markdown",
   "metadata": {},
   "source": [
    "The very low p values further indicate a significant difference between each group. The largest variance in groups is from the high and low income levels with a p value of .0000918. This indicates that the child removal rates between the two groups is significantly different. We can also see that there is a difference between high and median, and median and low (although the difference is not as large as between high and low). "
   ]
  },
  {
   "cell_type": "code",
   "execution_count": 123,
   "metadata": {
    "slideshow": {
     "slide_type": "slide"
    }
   },
   "outputs": [
    {
     "data": {
      "text/html": [
       "<div>\n",
       "<style scoped>\n",
       "    .dataframe tbody tr th:only-of-type {\n",
       "        vertical-align: middle;\n",
       "    }\n",
       "\n",
       "    .dataframe tbody tr th {\n",
       "        vertical-align: top;\n",
       "    }\n",
       "\n",
       "    .dataframe thead th {\n",
       "        text-align: right;\n",
       "    }\n",
       "</style>\n",
       "<table border=\"1\" class=\"dataframe\">\n",
       "  <thead>\n",
       "    <tr style=\"text-align: right;\">\n",
       "      <th></th>\n",
       "      <th></th>\n",
       "      <th>child_population</th>\n",
       "      <th>victims</th>\n",
       "      <th>victims_per_100_children</th>\n",
       "    </tr>\n",
       "    <tr>\n",
       "      <th>Median Household Income Level</th>\n",
       "      <th>county</th>\n",
       "      <th></th>\n",
       "      <th></th>\n",
       "      <th></th>\n",
       "    </tr>\n",
       "  </thead>\n",
       "  <tbody>\n",
       "    <tr>\n",
       "      <th rowspan=\"16\" valign=\"top\">high</th>\n",
       "      <th>Brazoria</th>\n",
       "      <td>101759.0</td>\n",
       "      <td>655.0</td>\n",
       "      <td>0.643678</td>\n",
       "    </tr>\n",
       "    <tr>\n",
       "      <th>Chambers</th>\n",
       "      <td>11143.0</td>\n",
       "      <td>66.0</td>\n",
       "      <td>0.592300</td>\n",
       "    </tr>\n",
       "    <tr>\n",
       "      <th>Collin</th>\n",
       "      <td>264138.0</td>\n",
       "      <td>1149.0</td>\n",
       "      <td>0.435000</td>\n",
       "    </tr>\n",
       "    <tr>\n",
       "      <th>Comal</th>\n",
       "      <td>28784.0</td>\n",
       "      <td>455.0</td>\n",
       "      <td>1.580739</td>\n",
       "    </tr>\n",
       "    <tr>\n",
       "      <th>Denton</th>\n",
       "      <td>217520.0</td>\n",
       "      <td>932.0</td>\n",
       "      <td>0.428466</td>\n",
       "    </tr>\n",
       "    <tr>\n",
       "      <th>Ellis</th>\n",
       "      <td>47430.0</td>\n",
       "      <td>372.0</td>\n",
       "      <td>0.784314</td>\n",
       "    </tr>\n",
       "    <tr>\n",
       "      <th>Fort Bend</th>\n",
       "      <td>210720.0</td>\n",
       "      <td>737.0</td>\n",
       "      <td>0.349753</td>\n",
       "    </tr>\n",
       "    <tr>\n",
       "      <th>Glasscock</th>\n",
       "      <td>300.0</td>\n",
       "      <td>3.0</td>\n",
       "      <td>1.000000</td>\n",
       "    </tr>\n",
       "    <tr>\n",
       "      <th>Kendall</th>\n",
       "      <td>8590.0</td>\n",
       "      <td>39.0</td>\n",
       "      <td>0.454016</td>\n",
       "    </tr>\n",
       "    <tr>\n",
       "      <th>Midland</th>\n",
       "      <td>40745.0</td>\n",
       "      <td>203.0</td>\n",
       "      <td>0.498221</td>\n",
       "    </tr>\n",
       "    <tr>\n",
       "      <th>Montgomery</th>\n",
       "      <td>147799.0</td>\n",
       "      <td>807.0</td>\n",
       "      <td>0.546012</td>\n",
       "    </tr>\n",
       "    <tr>\n",
       "      <th>Parker</th>\n",
       "      <td>33966.0</td>\n",
       "      <td>443.0</td>\n",
       "      <td>1.304245</td>\n",
       "    </tr>\n",
       "    <tr>\n",
       "      <th>Rockwall</th>\n",
       "      <td>26873.0</td>\n",
       "      <td>98.0</td>\n",
       "      <td>0.364678</td>\n",
       "    </tr>\n",
       "    <tr>\n",
       "      <th>Travis</th>\n",
       "      <td>291482.0</td>\n",
       "      <td>2172.0</td>\n",
       "      <td>0.745158</td>\n",
       "    </tr>\n",
       "    <tr>\n",
       "      <th>Williamson</th>\n",
       "      <td>146988.0</td>\n",
       "      <td>596.0</td>\n",
       "      <td>0.405475</td>\n",
       "    </tr>\n",
       "    <tr>\n",
       "      <th>Wilson</th>\n",
       "      <td>12020.0</td>\n",
       "      <td>87.0</td>\n",
       "      <td>0.723794</td>\n",
       "    </tr>\n",
       "    <tr>\n",
       "      <th rowspan=\"14\" valign=\"top\">low</th>\n",
       "      <th>Anderson</th>\n",
       "      <td>11584.0</td>\n",
       "      <td>216.0</td>\n",
       "      <td>1.864641</td>\n",
       "    </tr>\n",
       "    <tr>\n",
       "      <th>Angelina</th>\n",
       "      <td>23881.0</td>\n",
       "      <td>286.0</td>\n",
       "      <td>1.197605</td>\n",
       "    </tr>\n",
       "    <tr>\n",
       "      <th>Aransas</th>\n",
       "      <td>4572.0</td>\n",
       "      <td>85.0</td>\n",
       "      <td>1.859143</td>\n",
       "    </tr>\n",
       "    <tr>\n",
       "      <th>Atascosa</th>\n",
       "      <td>13676.0</td>\n",
       "      <td>308.0</td>\n",
       "      <td>2.252121</td>\n",
       "    </tr>\n",
       "    <tr>\n",
       "      <th>Bailey</th>\n",
       "      <td>2463.0</td>\n",
       "      <td>12.0</td>\n",
       "      <td>0.487211</td>\n",
       "    </tr>\n",
       "    <tr>\n",
       "      <th>Baylor</th>\n",
       "      <td>740.0</td>\n",
       "      <td>12.0</td>\n",
       "      <td>1.621622</td>\n",
       "    </tr>\n",
       "    <tr>\n",
       "      <th>Bee</th>\n",
       "      <td>6863.0</td>\n",
       "      <td>94.0</td>\n",
       "      <td>1.369663</td>\n",
       "    </tr>\n",
       "    <tr>\n",
       "      <th>Bosque</th>\n",
       "      <td>4120.0</td>\n",
       "      <td>49.0</td>\n",
       "      <td>1.189320</td>\n",
       "    </tr>\n",
       "    <tr>\n",
       "      <th>Bowie</th>\n",
       "      <td>21801.0</td>\n",
       "      <td>239.0</td>\n",
       "      <td>1.096280</td>\n",
       "    </tr>\n",
       "    <tr>\n",
       "      <th>Brazos</th>\n",
       "      <td>53512.0</td>\n",
       "      <td>302.0</td>\n",
       "      <td>0.564359</td>\n",
       "    </tr>\n",
       "    <tr>\n",
       "      <th>Brewster</th>\n",
       "      <td>2163.0</td>\n",
       "      <td>17.0</td>\n",
       "      <td>0.785945</td>\n",
       "    </tr>\n",
       "    <tr>\n",
       "      <th>Briscoe</th>\n",
       "      <td>351.0</td>\n",
       "      <td>2.0</td>\n",
       "      <td>0.569801</td>\n",
       "    </tr>\n",
       "    <tr>\n",
       "      <th>Brooks</th>\n",
       "      <td>2059.0</td>\n",
       "      <td>37.0</td>\n",
       "      <td>1.796989</td>\n",
       "    </tr>\n",
       "    <tr>\n",
       "      <th>Brown</th>\n",
       "      <td>9202.0</td>\n",
       "      <td>204.0</td>\n",
       "      <td>2.216909</td>\n",
       "    </tr>\n",
       "    <tr>\n",
       "      <th>...</th>\n",
       "      <th>...</th>\n",
       "      <td>...</td>\n",
       "      <td>...</td>\n",
       "      <td>...</td>\n",
       "    </tr>\n",
       "    <tr>\n",
       "      <th rowspan=\"30\" valign=\"top\">median</th>\n",
       "      <th>Loving</th>\n",
       "      <td>5.0</td>\n",
       "      <td>0.0</td>\n",
       "      <td>0.000000</td>\n",
       "    </tr>\n",
       "    <tr>\n",
       "      <th>Martin</th>\n",
       "      <td>1466.0</td>\n",
       "      <td>20.0</td>\n",
       "      <td>1.364256</td>\n",
       "    </tr>\n",
       "    <tr>\n",
       "      <th>McMullen</th>\n",
       "      <td>136.0</td>\n",
       "      <td>1.0</td>\n",
       "      <td>0.735294</td>\n",
       "    </tr>\n",
       "    <tr>\n",
       "      <th>Medina</th>\n",
       "      <td>12540.0</td>\n",
       "      <td>108.0</td>\n",
       "      <td>0.861244</td>\n",
       "    </tr>\n",
       "    <tr>\n",
       "      <th>Moore</th>\n",
       "      <td>7666.0</td>\n",
       "      <td>65.0</td>\n",
       "      <td>0.847900</td>\n",
       "    </tr>\n",
       "    <tr>\n",
       "      <th>Nueces</th>\n",
       "      <td>89130.0</td>\n",
       "      <td>1244.0</td>\n",
       "      <td>1.395714</td>\n",
       "    </tr>\n",
       "    <tr>\n",
       "      <th>Ochiltree</th>\n",
       "      <td>3734.0</td>\n",
       "      <td>29.0</td>\n",
       "      <td>0.776647</td>\n",
       "    </tr>\n",
       "    <tr>\n",
       "      <th>Oldham</th>\n",
       "      <td>478.0</td>\n",
       "      <td>0.0</td>\n",
       "      <td>0.000000</td>\n",
       "    </tr>\n",
       "    <tr>\n",
       "      <th>Orange</th>\n",
       "      <td>21014.0</td>\n",
       "      <td>244.0</td>\n",
       "      <td>1.161131</td>\n",
       "    </tr>\n",
       "    <tr>\n",
       "      <th>Randall</th>\n",
       "      <td>33242.0</td>\n",
       "      <td>316.0</td>\n",
       "      <td>0.950605</td>\n",
       "    </tr>\n",
       "    <tr>\n",
       "      <th>Reagan</th>\n",
       "      <td>1001.0</td>\n",
       "      <td>7.0</td>\n",
       "      <td>0.699301</td>\n",
       "    </tr>\n",
       "    <tr>\n",
       "      <th>Roberts</th>\n",
       "      <td>239.0</td>\n",
       "      <td>3.0</td>\n",
       "      <td>1.255230</td>\n",
       "    </tr>\n",
       "    <tr>\n",
       "      <th>San Patricio</th>\n",
       "      <td>18349.0</td>\n",
       "      <td>216.0</td>\n",
       "      <td>1.177176</td>\n",
       "    </tr>\n",
       "    <tr>\n",
       "      <th>Scurry</th>\n",
       "      <td>4567.0</td>\n",
       "      <td>57.0</td>\n",
       "      <td>1.248084</td>\n",
       "    </tr>\n",
       "    <tr>\n",
       "      <th>Shackelford</th>\n",
       "      <td>812.0</td>\n",
       "      <td>14.0</td>\n",
       "      <td>1.724138</td>\n",
       "    </tr>\n",
       "    <tr>\n",
       "      <th>Smith</th>\n",
       "      <td>57561.0</td>\n",
       "      <td>517.0</td>\n",
       "      <td>0.898178</td>\n",
       "    </tr>\n",
       "    <tr>\n",
       "      <th>Somervell</th>\n",
       "      <td>2211.0</td>\n",
       "      <td>39.0</td>\n",
       "      <td>1.763908</td>\n",
       "    </tr>\n",
       "    <tr>\n",
       "      <th>Sterling</th>\n",
       "      <td>279.0</td>\n",
       "      <td>1.0</td>\n",
       "      <td>0.358423</td>\n",
       "    </tr>\n",
       "    <tr>\n",
       "      <th>Sutton</th>\n",
       "      <td>1113.0</td>\n",
       "      <td>20.0</td>\n",
       "      <td>1.796945</td>\n",
       "    </tr>\n",
       "    <tr>\n",
       "      <th>Tarrant</th>\n",
       "      <td>538318.0</td>\n",
       "      <td>5630.0</td>\n",
       "      <td>1.045850</td>\n",
       "    </tr>\n",
       "    <tr>\n",
       "      <th>Taylor</th>\n",
       "      <td>34122.0</td>\n",
       "      <td>800.0</td>\n",
       "      <td>2.344528</td>\n",
       "    </tr>\n",
       "    <tr>\n",
       "      <th>Upton</th>\n",
       "      <td>974.0</td>\n",
       "      <td>6.0</td>\n",
       "      <td>0.616016</td>\n",
       "    </tr>\n",
       "    <tr>\n",
       "      <th>Van Zandt</th>\n",
       "      <td>12508.0</td>\n",
       "      <td>179.0</td>\n",
       "      <td>1.431084</td>\n",
       "    </tr>\n",
       "    <tr>\n",
       "      <th>Victoria</th>\n",
       "      <td>23649.0</td>\n",
       "      <td>206.0</td>\n",
       "      <td>0.871073</td>\n",
       "    </tr>\n",
       "    <tr>\n",
       "      <th>Waller</th>\n",
       "      <td>12933.0</td>\n",
       "      <td>45.0</td>\n",
       "      <td>0.347947</td>\n",
       "    </tr>\n",
       "    <tr>\n",
       "      <th>Ward</th>\n",
       "      <td>2915.0</td>\n",
       "      <td>39.0</td>\n",
       "      <td>1.337907</td>\n",
       "    </tr>\n",
       "    <tr>\n",
       "      <th>Washington</th>\n",
       "      <td>7896.0</td>\n",
       "      <td>50.0</td>\n",
       "      <td>0.633232</td>\n",
       "    </tr>\n",
       "    <tr>\n",
       "      <th>Winkler</th>\n",
       "      <td>2153.0</td>\n",
       "      <td>19.0</td>\n",
       "      <td>0.882490</td>\n",
       "    </tr>\n",
       "    <tr>\n",
       "      <th>Wise</th>\n",
       "      <td>16879.0</td>\n",
       "      <td>225.0</td>\n",
       "      <td>1.333017</td>\n",
       "    </tr>\n",
       "    <tr>\n",
       "      <th>Yoakum</th>\n",
       "      <td>2701.0</td>\n",
       "      <td>11.0</td>\n",
       "      <td>0.407257</td>\n",
       "    </tr>\n",
       "  </tbody>\n",
       "</table>\n",
       "<p>254 rows × 3 columns</p>\n",
       "</div>"
      ],
      "text/plain": [
       "                                            child_population  victims  \\\n",
       "Median Household Income Level county                                    \n",
       "high                          Brazoria              101759.0    655.0   \n",
       "                              Chambers               11143.0     66.0   \n",
       "                              Collin                264138.0   1149.0   \n",
       "                              Comal                  28784.0    455.0   \n",
       "                              Denton                217520.0    932.0   \n",
       "                              Ellis                  47430.0    372.0   \n",
       "                              Fort Bend             210720.0    737.0   \n",
       "                              Glasscock                300.0      3.0   \n",
       "                              Kendall                 8590.0     39.0   \n",
       "                              Midland                40745.0    203.0   \n",
       "                              Montgomery            147799.0    807.0   \n",
       "                              Parker                 33966.0    443.0   \n",
       "                              Rockwall               26873.0     98.0   \n",
       "                              Travis                291482.0   2172.0   \n",
       "                              Williamson            146988.0    596.0   \n",
       "                              Wilson                 12020.0     87.0   \n",
       "low                           Anderson               11584.0    216.0   \n",
       "                              Angelina               23881.0    286.0   \n",
       "                              Aransas                 4572.0     85.0   \n",
       "                              Atascosa               13676.0    308.0   \n",
       "                              Bailey                  2463.0     12.0   \n",
       "                              Baylor                   740.0     12.0   \n",
       "                              Bee                     6863.0     94.0   \n",
       "                              Bosque                  4120.0     49.0   \n",
       "                              Bowie                  21801.0    239.0   \n",
       "                              Brazos                 53512.0    302.0   \n",
       "                              Brewster                2163.0     17.0   \n",
       "                              Briscoe                  351.0      2.0   \n",
       "                              Brooks                  2059.0     37.0   \n",
       "                              Brown                   9202.0    204.0   \n",
       "...                                                      ...      ...   \n",
       "median                        Loving                     5.0      0.0   \n",
       "                              Martin                  1466.0     20.0   \n",
       "                              McMullen                 136.0      1.0   \n",
       "                              Medina                 12540.0    108.0   \n",
       "                              Moore                   7666.0     65.0   \n",
       "                              Nueces                 89130.0   1244.0   \n",
       "                              Ochiltree               3734.0     29.0   \n",
       "                              Oldham                   478.0      0.0   \n",
       "                              Orange                 21014.0    244.0   \n",
       "                              Randall                33242.0    316.0   \n",
       "                              Reagan                  1001.0      7.0   \n",
       "                              Roberts                  239.0      3.0   \n",
       "                              San Patricio           18349.0    216.0   \n",
       "                              Scurry                  4567.0     57.0   \n",
       "                              Shackelford              812.0     14.0   \n",
       "                              Smith                  57561.0    517.0   \n",
       "                              Somervell               2211.0     39.0   \n",
       "                              Sterling                 279.0      1.0   \n",
       "                              Sutton                  1113.0     20.0   \n",
       "                              Tarrant               538318.0   5630.0   \n",
       "                              Taylor                 34122.0    800.0   \n",
       "                              Upton                    974.0      6.0   \n",
       "                              Van Zandt              12508.0    179.0   \n",
       "                              Victoria               23649.0    206.0   \n",
       "                              Waller                 12933.0     45.0   \n",
       "                              Ward                    2915.0     39.0   \n",
       "                              Washington              7896.0     50.0   \n",
       "                              Winkler                 2153.0     19.0   \n",
       "                              Wise                   16879.0    225.0   \n",
       "                              Yoakum                  2701.0     11.0   \n",
       "\n",
       "                                            victims_per_100_children  \n",
       "Median Household Income Level county                                  \n",
       "high                          Brazoria                      0.643678  \n",
       "                              Chambers                      0.592300  \n",
       "                              Collin                        0.435000  \n",
       "                              Comal                         1.580739  \n",
       "                              Denton                        0.428466  \n",
       "                              Ellis                         0.784314  \n",
       "                              Fort Bend                     0.349753  \n",
       "                              Glasscock                     1.000000  \n",
       "                              Kendall                       0.454016  \n",
       "                              Midland                       0.498221  \n",
       "                              Montgomery                    0.546012  \n",
       "                              Parker                        1.304245  \n",
       "                              Rockwall                      0.364678  \n",
       "                              Travis                        0.745158  \n",
       "                              Williamson                    0.405475  \n",
       "                              Wilson                        0.723794  \n",
       "low                           Anderson                      1.864641  \n",
       "                              Angelina                      1.197605  \n",
       "                              Aransas                       1.859143  \n",
       "                              Atascosa                      2.252121  \n",
       "                              Bailey                        0.487211  \n",
       "                              Baylor                        1.621622  \n",
       "                              Bee                           1.369663  \n",
       "                              Bosque                        1.189320  \n",
       "                              Bowie                         1.096280  \n",
       "                              Brazos                        0.564359  \n",
       "                              Brewster                      0.785945  \n",
       "                              Briscoe                       0.569801  \n",
       "                              Brooks                        1.796989  \n",
       "                              Brown                         2.216909  \n",
       "...                                                              ...  \n",
       "median                        Loving                        0.000000  \n",
       "                              Martin                        1.364256  \n",
       "                              McMullen                      0.735294  \n",
       "                              Medina                        0.861244  \n",
       "                              Moore                         0.847900  \n",
       "                              Nueces                        1.395714  \n",
       "                              Ochiltree                     0.776647  \n",
       "                              Oldham                        0.000000  \n",
       "                              Orange                        1.161131  \n",
       "                              Randall                       0.950605  \n",
       "                              Reagan                        0.699301  \n",
       "                              Roberts                       1.255230  \n",
       "                              San Patricio                  1.177176  \n",
       "                              Scurry                        1.248084  \n",
       "                              Shackelford                   1.724138  \n",
       "                              Smith                         0.898178  \n",
       "                              Somervell                     1.763908  \n",
       "                              Sterling                      0.358423  \n",
       "                              Sutton                        1.796945  \n",
       "                              Tarrant                       1.045850  \n",
       "                              Taylor                        2.344528  \n",
       "                              Upton                         0.616016  \n",
       "                              Van Zandt                     1.431084  \n",
       "                              Victoria                      0.871073  \n",
       "                              Waller                        0.347947  \n",
       "                              Ward                          1.337907  \n",
       "                              Washington                    0.633232  \n",
       "                              Winkler                       0.882490  \n",
       "                              Wise                          1.333017  \n",
       "                              Yoakum                        0.407257  \n",
       "\n",
       "[254 rows x 3 columns]"
      ]
     },
     "execution_count": 123,
     "metadata": {},
     "output_type": "execute_result"
    }
   ],
   "source": [
    "#Quick glance at the data again, grouped by income level\n",
    "pd.pivot_table(clean_2017_df, index = ['Median Household Income Level', 'county'], values = ['child_population', 'victims', 'victims_per_100_children'])"
   ]
  },
  {
   "cell_type": "markdown",
   "metadata": {
    "slideshow": {
     "slide_type": "slide"
    }
   },
   "source": [
    "## Conclusion"
   ]
  },
  {
   "cell_type": "markdown",
   "metadata": {
    "slideshow": {
     "slide_type": "slide"
    }
   },
   "source": [
    "There is a significant correlation between income level and child endangerment. "
   ]
  },
  {
   "cell_type": "markdown",
   "metadata": {
    "slideshow": {
     "slide_type": "slide"
    }
   },
   "source": [
    "## What Is Next?"
   ]
  },
  {
   "cell_type": "markdown",
   "metadata": {
    "slideshow": {
     "slide_type": "slide"
    }
   },
   "source": [
    "Further Analysis:\n",
    "\n",
    "The relationship between drug use, median income levels, and child victimization rates\n",
    "\n"
   ]
  },
  {
   "cell_type": "markdown",
   "metadata": {
    "slideshow": {
     "slide_type": "slide"
    }
   },
   "source": [
    "This research hopes to be used in conjunction with high level strategy in reducing child endangerment through various programs (such as drug rehab, drug use prevention, workforce preparation assistance, job creation, etc.)."
   ]
  },
  {
   "attachments": {
    "girl-with-bruise-on-face-500.jpg": {
     "image/jpeg": "[encoded data removed]"
    }
   },
   "cell_type": "markdown",
   "metadata": {},
   "source": [
    "![girl-with-bruise-on-face-500.jpg](attachment:girl-with-bruise-on-face-500.jpg)"
   ]
  }
 ],
 "metadata": {
  "celltoolbar": "Raw Cell Format",
  "kernelspec": {
   "display_name": "Python 3",
   "language": "python",
   "name": "python3"
  },
  "language_info": {
   "codemirror_mode": {
    "name": "ipython",
    "version": 3
   },
   "file_extension": ".py",
   "mimetype": "text/x-python",
   "name": "python",
   "nbconvert_exporter": "python",
   "pygments_lexer": "ipython3",
   "version": "3.7.3"
  }
 },
 "nbformat": 4,
 "nbformat_minor": 2
}
